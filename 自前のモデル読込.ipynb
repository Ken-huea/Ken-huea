{
  "nbformat": 4,
  "nbformat_minor": 0,
  "metadata": {
    "colab": {
      "provenance": [],
      "collapsed_sections": [
        "dSGKml580BN0",
        "FS3yZlIb03k-",
        "bvPr5Fgz3rWt",
        "GZUdxLro5Mrg"
      ],
      "toc_visible": true,
      "authorship_tag": "ABX9TyOnuMeFHRoW4rCQMiNr2bpd",
      "include_colab_link": true
    },
    "kernelspec": {
      "name": "python3",
      "display_name": "Python 3"
    },
    "language_info": {
      "name": "python"
    }
  },
  "cells": [
    {
      "cell_type": "markdown",
      "metadata": {
        "id": "view-in-github",
        "colab_type": "text"
      },
      "source": [
        "<a href=\"https://colab.research.google.com/github/Ken-huea/image-recognition/blob/main/%E8%87%AA%E5%89%8D%E3%81%AE%E3%83%A2%E3%83%87%E3%83%AB%E8%AA%AD%E8%BE%BC.ipynb\" target=\"_parent\"><img src=\"https://colab.research.google.com/assets/colab-badge.svg\" alt=\"Open In Colab\"/></a>"
      ]
    },
    {
      "cell_type": "markdown",
      "source": [
        "### 今回の目的\n",
        "学習したモデルをインポートしてみましょう。"
      ],
      "metadata": {
        "id": "dSGKml580BN0"
      }
    },
    {
      "cell_type": "markdown",
      "source": [
        "毎度毎度、学習って時間がかかるじゃないですか。\n",
        "なので一度学習したモデルを保存して流用しようという話です。"
      ],
      "metadata": {
        "id": "4xj3k-r90Eyk"
      }
    },
    {
      "cell_type": "markdown",
      "source": [
        "前回はオープンソースの<font color=\"red\">vgg16</font>というモデルをインポートしましたが\n",
        "\n",
        "今回は自前のモデル、あなたが作成したモデルを<font color=\"blue\">**保存⇒読込**</font>を行う事が目標です。"
      ],
      "metadata": {
        "id": "f6YPRK-40aed"
      }
    },
    {
      "cell_type": "markdown",
      "source": [
        "###### **モデルの保存について。**"
      ],
      "metadata": {
        "id": "FS3yZlIb03k-"
      }
    },
    {
      "cell_type": "markdown",
      "source": [
        "私のcolabではふんこのようにモデルの学習をしています。\n",
        "\n",
        "\n",
        "\n",
        "\n",
        "```\n",
        "\n",
        "from keras import callbacks                   # コールバック（1epoch終了毎に呼び出される）\n",
        "\n",
        "    # 構築したモデルで学習（学習データ:trainのうち、10％を検証データ:validationとして使用）\n",
        "history = model.fit(X_train, \n",
        "                    y_train, \n",
        "                    batch_size=batch_size, \n",
        "                    epochs=epochs, \n",
        "                    verbose=1, \n",
        "                    validation_split=0.1,\n",
        "                    callbacks=[\n",
        "                            callbacks.EarlyStopping(monitor='val_accuracy',patience = pati_time),\n",
        "                            callbacks.ModelCheckpoint(filepath = './model/best_model.h5',monitor='val_accuracy', save_best_only=True)\n",
        "                            ]\n",
        "                    )\n",
        "\n",
        "```\n",
        "\n",
        "\n"
      ],
      "metadata": {
        "id": "oT1RLPdb06zT"
      }
    },
    {
      "cell_type": "markdown",
      "source": [
        "このcallback関数を見てください。\n",
        "\n",
        "\n",
        "```\n",
        "callbacks.ModelCheckpoint(filepath = './model/best_model.h5',monitor='val_accuracy', save_best_only=True)\n",
        "```\n",
        "ここで保存されています。\n",
        "val_accuracyが一番良いものを保存、現在の場所(.)から「モデル」というフォルダを作ってその中に「best_model.h5」という名前で。　ハイ、これが保存方法。私は現状この手札で事が足りております。\n"
      ],
      "metadata": {
        "id": "Zp4KOOR91XO3"
      }
    },
    {
      "cell_type": "markdown",
      "source": [
        "## 実装"
      ],
      "metadata": {
        "id": "mlfL08bn3nGl"
      }
    },
    {
      "cell_type": "markdown",
      "source": [
        "### データのインポートとモデルの読込"
      ],
      "metadata": {
        "id": "bvPr5Fgz3rWt"
      }
    },
    {
      "cell_type": "code",
      "execution_count": 1,
      "metadata": {
        "id": "pQiVwmKcmw2H"
      },
      "outputs": [],
      "source": [
        "# -*- coding: utf-8 -*-　モジュールインポート\n",
        "import numpy as np\n",
        "from tensorflow.keras.models import Sequential, model_from_json\n",
        "from tensorflow.keras.layers import Dense, Dropout, Flatten, Conv2D, MaxPooling2D\n",
        "from tensorflow.keras.optimizers import RMSprop\n",
        "from tensorflow.keras.datasets import mnist\n",
        "from tensorflow.keras.utils import to_categorical\n",
        "import matplotlib.pyplot as plt\n",
        "import os\n",
        "import pickle"
      ]
    },
    {
      "cell_type": "markdown",
      "source": [
        "モデルの読込は下記のように行う事が出来ます。\n",
        "\n",
        "拡張子が`.h5`なので、\n",
        "- モデル構築の読込\n",
        "- モデルの重みの読込\n",
        "\n",
        "の両方が読み込めています。保存する時も読み込む時も`.h5`が無難です。"
      ],
      "metadata": {
        "id": "MM52iW7Jzkbb"
      }
    },
    {
      "cell_type": "markdown",
      "source": [
        "重みがいらなくてモデル構築のみインポートしたいときは？　\n",
        "`hdf5` で調べてみてください。\n",
        "\n",
        "![2022-08-31_16h51_13.png](data:image/png;base64,iVBORw0KGgoAAAANSUhEUgAAArcAAAAjCAYAAACO9SILAAAAAXNSR0IArs4c6QAAAARnQU1BAACxjwv8YQUAAAAJcEhZcwAADsMAAA7DAcdvqGQAAAfESURBVHhe7Zy7btxGFED5Rapc+TPcu023lQIEKawAsgwhjWB3SiOociepMyAgW6hTgDQK7MJwEwcIosof4GYyl8N5ci5J2Yq8OzkXOLA5L87ycXl2RKkzBEEQBEEQBNFIILcEQRAEQRBEM4HcEgRBEARBEM1E98uNMQAAAAAA28bpW2Pefxqsdojut3+MAQAAAADYNtYfneCm0f1+awwAAAAAwDYiK7hpILcAAAAAsLUgtwAAAADQDLNye3Dwwvz4w/cqUv/rH39nfQAAAAAAvgWzcisC+/nzZxWpPzw8QHABAAAA4JtzL3L718c/EVwAAAAA+OZ8tdz+bKVW2gjPfnqW9QUAAGiSq1Ozd3ablZ0fr8zRlfz/xhw9vzTrpA4AHo6vltsUaVv2/2/5YHYfPTa717U6zxvzpPvOvFpcXqPYz7Xta7d3Hi3tDwCLqUjDnbmPMeAeuTUnzw/Nybu8fH12mJwnabMyK9tutbL/WvaOL8156BPr9wacSC7AXg9+zJLFY6S8uzR7q/HnQW4B7oMyX9j7KdyrSR6Qe/j56eg+FJDbUXmNfD+vnnbmyetYL9tdL7uOtA6gFc6PRToGsbDSER7c8qDvZcPJiC/X2qvjJPUhWSljr8+svPblwvQYc/tz4nNqzstyy1Tf9TsRGF2ORHRqIjY39zZZKrd5m7V8SbHH35XVxxC0Yz1HlNG7kD5oc5BbaBYlT+b5TJAvjbFdNU8qeT2S3+uSh7U8ITliVbnXkNtReY05uZ2bA8C2c2NOkpVQeYi7ZCOJK0lkVlZWxzeT7evlbtslPZ+o9LGP0uSZCdJ4jMn99fuw/atyq/eVZHt0ZuttmSZHqWBHZubeLF8mt76NO+9TclsvnyP001Z2Rw9NuV7sOVfOmVwjyC20x1SezOlz45AT63lSxqrldV8vxHu9zxFZfZEHsnwfeUC5dTK5+/o7s/NIVjqtWF5babRi6LZfmgvf9vrl8GP/x6brZCX0QxxH+nedWyV96toFsezH9iuoXlyn5XZ33/Vx+0nqlf2IyHa2XNrvPH1j2y4RbIC2CFIiUpAmHiXR5BKjl8t2SILq2C7RuuR22ydQdYyCcn9Obux4C5J27TNEmbFkKwiaiE3PvV10cY2fXzlm4bxrx1Qrn0P6TZx3ez6zh2q/AmXna9GuL+QWWmRxnlTy/yhPzj4zhnu6XxVW6mZy6APLbZTAi32RxCidYTXUiu2OlAdZTPr5uqGP207qUkG2ctr18jklt8kKbNp/aj92O1+5dXLrBNnKsN1nmANAk0RBGwtfLQHG9rGsVi7b+Td6bWz34+qVTXzl6lo+Rk6+vzh+HHfcx5P39czJrYiQrACKJPk56nNvGTke8nndMQnIcbiT3KZj+Hft9GM9SfWhGq8FeWj6c9ufs2Fuct3ocuvnL9dLMrbd14nSB2CTuUueTO+ZvDzmyWXPjOFeX9XGS/KAvd/lndv4Xn7kwVdugzAG+XTbIrs7+x9G5dN1yaqp1Mlq6iCafsX1YlJu0/Jke2o/drt8LSFtJ3X9XEd1AA0wrF55AZlNVEX7QK1cBCIZSx27lBKRSr8SUIwRKOct7cLqQTHnEu0zWDK5VZHVhUHipubeNHVxzc9xvU380qDUZyTHulofGV9fQrzGjvx5kXOWve+tyW06P7lmYh/toQ+wydwtT9a+LDq+TG7tvXQlYyp1Pg9Ifg7v5Uc2Um5LOfR1oU2oK+S2kGLH3eV2cj92W5dbizoPgO3GJboieZVyliS4anu1vCIuytjnNjnmQuiTY11+xvsT8bAJNiArBMMKQNKv3jdnmdxahs8iib0+96RtkyjnJnvQ1dtEWa3XjyivmypyDdSOu5Tr51uYlls/ZjLOxEMfYHNZnieFsbRGsjyp5PX8/kjudcnBWX2ZB2R7nIc3T279KwGDSPb9vFiWrwuICJevLIR+nmS/ss/w6oIut5P7sdus3ML/DvUBnctZSHBa+6nykZAoY0tyTMYQAe23a2Oo807J9xNY0HeUtKvtk9VEbe5Z+xapi+m03NrjJvXh+NTHyFmycuvGqQqqnI8ZMVblNrv+vNw6QZieM8A2oOTJnul7M8uTWl4fth35eNI/3pfFvuS+24qV26Eufb0gFckL+QWw4Re9nuy/yVZUL3oJHX4JTMr7fl8gt5ap/eRyK0Lr9te/FmHbunKAhpCHvrzPaJNKwK9o2jr3DqmUDe87au2VcpEYTTZGY1v6Pz8j5Rb/zlVVOqbmHVCS9oK+utyKZLk+/Z8SO4vCVJu7r2uX+sNvLLdyTGyZHBs5bsk518aYOtYl66vLXjaPrsby26/SVx6SJZrc5q8eOKmVOc2NB7AdJHlytJAwJb6l3FqUvB4p73WXG1yuGOeJ2v34gHILAFBDREBPjMu4jzGgZXqRli9SVdmUB2b9j8GX1OS2F+Ns9cnJLWILLaJ9wdskkFsAAAAAWMT58eYvJMzK7cHBi15alyBty/4AAAAAAA/FrNwCAAAAAGwLyC0AAAAANANyCwAAAADNgNwCAAAAQDMgtwAAAADQBOuPxpy+Hax2iE5sFwAAAABg2xCxff9psNohuuFfgiAIgiAIgtj6QG4JgiAIgiCIZgK5JQiCIAiCIJoJ5JYgCIIgCIJoJpBbgiAIgiAIopEw5l+B29//hQaTfgAAAABJRU5ErkJggg==)"
      ],
      "metadata": {
        "id": "YeLWYmXn4WIu"
      }
    },
    {
      "cell_type": "code",
      "source": [
        "# モデルの読込(Aidemy)\n",
        "from tensorflow.python.keras.models import load_model\n",
        "\n",
        "#モデルを読み込み モデルの構築と重み。\n",
        "model = load_model('/content/model.h5')\n",
        "model.summary() #モデル情報を出力"
      ],
      "metadata": {
        "colab": {
          "base_uri": "https://localhost:8080/"
        },
        "id": "AQKzQvDtnGde",
        "outputId": "199f51dc-6518-426e-c5ae-1aee03e57b56"
      },
      "execution_count": null,
      "outputs": [
        {
          "output_type": "stream",
          "name": "stdout",
          "text": [
            "Model: \"sequential\"\n",
            "_________________________________________________________________\n",
            "Layer (type)                 Output Shape              Param #   \n",
            "=================================================================\n",
            "conv2d (Conv2D)              (None, 26, 26, 32)        320       \n",
            "_________________________________________________________________\n",
            "conv2d_1 (Conv2D)            (None, 24, 24, 64)        18496     \n",
            "_________________________________________________________________\n",
            "max_pooling2d (MaxPooling2D) (None, 12, 12, 64)        0         \n",
            "_________________________________________________________________\n",
            "dropout (Dropout)            (None, 12, 12, 64)        0         \n",
            "_________________________________________________________________\n",
            "flatten (Flatten)            (None, 9216)              0         \n",
            "_________________________________________________________________\n",
            "dense (Dense)                (None, 128)               1179776   \n",
            "_________________________________________________________________\n",
            "dropout_1 (Dropout)          (None, 128)               0         \n",
            "_________________________________________________________________\n",
            "dense_1 (Dense)              (None, 10)                1290      \n",
            "=================================================================\n",
            "Total params: 1,199,882\n",
            "Trainable params: 1,199,882\n",
            "Non-trainable params: 0\n",
            "_________________________________________________________________\n"
          ]
        }
      ]
    },
    {
      "cell_type": "markdown",
      "source": [
        "model.summaryで概要を確認した後は`model.input_shape`で入力層の確認をなさいましょう。\n",
        "\n",
        "`(None, 28, 28, 1)` 縦28px,横28px,1です。　最後の１はカラー無しという事です。カラーの場合はRGBなので<font color=\"red\">3</font>になります。\n",
        "\n",
        "<font color=\"red\">None</font> : これはkerasの場合は<font color=\"red\">可変</font>という意味です。どんな数字でも入ります。\n",
        "\n",
        "x_trainは`(60000, 28, 28, 1)` 今回は`(1, 28, 28, 1)` つまり<font color=\"red\">画像の枚数</font>です。　⇒<font color=\"blue\">Noneは画像の枚数、そしてこれは可変である。</font>"
      ],
      "metadata": {
        "id": "VC1LU0WH7-AI"
      }
    },
    {
      "cell_type": "code",
      "source": [
        "model.input_shape\n",
        "# None 可変、なんでもよい。指定していない。"
      ],
      "metadata": {
        "colab": {
          "base_uri": "https://localhost:8080/"
        },
        "id": "4V485w3V551f",
        "outputId": "d0265671-83d6-4d7d-ac48-c540abe41f87"
      },
      "execution_count": null,
      "outputs": [
        {
          "output_type": "execute_result",
          "data": {
            "text/plain": [
              "(None, 28, 28, 1)"
            ]
          },
          "metadata": {},
          "execution_count": 20
        }
      ]
    },
    {
      "cell_type": "code",
      "source": [
        "# 15層目までの重みを固定しています。\n",
        "for layer in model.layers[:15]:\n",
        "    layer.trainable = False"
      ],
      "metadata": {
        "id": "nxNHrYv16LBl"
      },
      "execution_count": null,
      "outputs": []
    },
    {
      "cell_type": "markdown",
      "source": [
        "この場合cifar10に「適合させるためには入力層をいじらないとダメみたいですね。"
      ],
      "metadata": {
        "id": "K_caDPmG6NLl"
      }
    },
    {
      "cell_type": "markdown",
      "source": [
        "### インポートしたモデルを使用して検証"
      ],
      "metadata": {
        "id": "GZUdxLro5Mrg"
      }
    },
    {
      "cell_type": "markdown",
      "source": [
        "実際にインポートしたモデルを用いて数字を予測してみましょう。\n",
        "\n",
        "その為にはインポートしたモデルを理解してそれに合わせた画像のリサイズ処理など多少手間が必要です。"
      ],
      "metadata": {
        "id": "5Rlux3gI-fvp"
      }
    },
    {
      "cell_type": "code",
      "source": [
        "# 画像読込\n",
        "import cv2\n",
        "from google.colab.patches import cv2_imshow\n",
        "img = cv2.imread(\"/content/img_9.jpg\",cv2.IMREAD_GRAYSCALE)\n",
        "#　この際に第二引数にて｢白黒｣で読み込む。という処理を致しております。\n",
        "\n",
        "# これで表示。\n",
        "print(img.shape)\n",
        "cv2_imshow(img)"
      ],
      "metadata": {
        "colab": {
          "base_uri": "https://localhost:8080/",
          "height": 62
        },
        "id": "cVp9SJql5Vo_",
        "outputId": "03f56e17-976e-489e-99e7-ec34bcd41e14"
      },
      "execution_count": null,
      "outputs": [
        {
          "output_type": "stream",
          "name": "stdout",
          "text": [
            "(28, 28)\n"
          ]
        },
        {
          "output_type": "display_data",
          "data": {
            "text/plain": [
              "<PIL.Image.Image image mode=L size=28x28 at 0x7FB202A28390>"
            ],
            "image/png": "[encoded data removed]"
          },
          "metadata": {}
        }
      ]
    },
    {
      "cell_type": "code",
      "source": [
        "# 画像データのshapeをモデル用にリサイズ致します。\n",
        "img = img.reshape(1, 28,28,1)\n",
        "img.shape "
      ],
      "metadata": {
        "colab": {
          "base_uri": "https://localhost:8080/"
        },
        "id": "bxlWgyK35uIv",
        "outputId": "3b03d476-3bd5-4081-f424-ecbec8d410c4"
      },
      "execution_count": null,
      "outputs": [
        {
          "output_type": "execute_result",
          "data": {
            "text/plain": [
              "(1, 28, 28, 1)"
            ]
          },
          "metadata": {},
          "execution_count": 30
        }
      ]
    },
    {
      "cell_type": "code",
      "source": [
        "# 分類機に入力データを与えて予測（出力：各クラスの予想確率）\n",
        "predict_y = model.predict(img)\n",
        "print(predict_y)\n",
        "print()\n",
        "# 最も確率の高い要素番号（=予想する数字）\n",
        "predict_number = np.argmax(predict_y)\n",
        "print(\"predict_number:\", predict_number)  # 予測した数字"
      ],
      "metadata": {
        "colab": {
          "base_uri": "https://localhost:8080/"
        },
        "id": "h2W8GB5E5bU2",
        "outputId": "a517c88e-6ec5-428d-962d-234bc77b432b"
      },
      "execution_count": null,
      "outputs": [
        {
          "output_type": "stream",
          "name": "stdout",
          "text": [
            "[[0. 0. 0. 1. 0. 0. 0. 0. 0. 0.]]\n",
            "\n",
            "predict_number: 3\n"
          ]
        }
      ]
    },
    {
      "cell_type": "markdown",
      "source": [
        "ちゃんとモデルをインポートして予測までできている事を確認致しました。\n",
        "\n",
        "今回はモデルインポート時間短縮の為あえて単純なモデルをインポートしておりますので、精度の質はゴニョゴニョ..."
      ],
      "metadata": {
        "id": "J-X5ho0C_toC"
      }
    }
  ]
}