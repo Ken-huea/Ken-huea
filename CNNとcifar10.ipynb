{
  "nbformat": 4,
  "nbformat_minor": 0,
  "metadata": {
    "celltoolbar": "Edit Metadata",
    "kernelspec": {
      "display_name": "Python 3",
      "language": "python",
      "name": "python3"
    },
    "language_info": {
      "codemirror_mode": {
        "name": "ipython",
        "version": 3
      },
      "file_extension": ".py",
      "mimetype": "text/x-python",
      "name": "python",
      "nbconvert_exporter": "python",
      "pygments_lexer": "ipython3",
      "version": "3.7.4"
    },
    "toc": {
      "base_numbering": 1,
      "nav_menu": {},
      "number_sections": true,
      "sideBar": true,
      "skip_h1_title": false,
      "title_cell": "Table of Contents",
      "title_sidebar": "Contents",
      "toc_cell": false,
      "toc_position": {},
      "toc_section_display": true,
      "toc_window_display": false
    },
    "varInspector": {
      "cols": {
        "lenName": 16,
        "lenType": 16,
        "lenVar": 40
      },
      "kernels_config": {
        "python": {
          "delete_cmd_postfix": "",
          "delete_cmd_prefix": "del ",
          "library": "var_list.py",
          "varRefreshCmd": "print(var_dic_list())"
        },
        "r": {
          "delete_cmd_postfix": ") ",
          "delete_cmd_prefix": "rm(",
          "library": "var_list.r",
          "varRefreshCmd": "cat(var_dic_list()) "
        }
      },
      "types_to_exclude": [
        "module",
        "function",
        "builtin_function_or_method",
        "instance",
        "_Feature"
      ],
      "window_display": false
    },
    "colab": {
      "provenance": [],
      "collapsed_sections": [
        "wrM8Gm6gF5H7",
        "lHVS2ZIGyZ5j",
        "OLcWVkQ8yilS",
        "SFIuu4ErvjZg"
      ],
      "include_colab_link": true
    },
    "gpuClass": "standard",
    "accelerator": "GPU"
  },
  "cells": [
    {
      "cell_type": "markdown",
      "metadata": {
        "id": "view-in-github",
        "colab_type": "text"
      },
      "source": [
        "<a href=\"https://colab.research.google.com/github/Ken-huea/image-recognition/blob/main/CNN%E3%81%A8cifar10.ipynb\" target=\"_parent\"><img src=\"https://colab.research.google.com/assets/colab-badge.svg\" alt=\"Open In Colab\"/></a>"
      ]
    },
    {
      "cell_type": "markdown",
      "metadata": {
        "type": "final_exam",
        "id": "WgIA4XBSNRL2"
      },
      "source": [
        "### 今回の狙い"
      ]
    },
    {
      "cell_type": "markdown",
      "metadata": {
        "type": "question",
        "id": "6dgBBuQtNRL4"
      },
      "source": [
        "引き続き、cifar10の学習です。しかし今回使用するモデルは<font color=\"red\">外部からとってきます。</font>\n",
        "\n",
        "他人が作成したモデルを上手い事こちらに流用しよう。というスタンスですね。\n",
        "それでどのくらい精度が出るかという話ですが、70以上を目指しましょう。"
      ]
    },
    {
      "cell_type": "markdown",
      "source": [
        "語録\n",
        "\n",
        "ニコイチ：2つのジャンクを１つの製品にする事。車修理等でよく用いられております。\n",
        "\n",
        "それに転じて２つ以上の物を掛け合わせて１つの物体を作る事。\n",
        "私の好きな言葉です。"
      ],
      "metadata": {
        "id": "52nIWR8UaPcv"
      }
    },
    {
      "cell_type": "markdown",
      "source": [
        "#### 転移学習について"
      ],
      "metadata": {
        "id": "wrM8Gm6gF5H7"
      }
    },
    {
      "cell_type": "markdown",
      "source": [
        "ポイントは<font color=\"red\">どの部分を切り取って使用する</font>のかを考える。\n",
        "\n",
        "例えばvgg16というモデルをインポートして使うにするとしても無茶な訳ですよ。\n",
        "\n",
        "そのまま使用すると画像のサイズ`224*224で1000クラス分類`ですからね。\n",
        "cifar10は`画像サイズ：32*32で10クラス分類`。\n",
        "\n",
        "上手い事つぎはぎしましょう。"
      ],
      "metadata": {
        "id": "4jCKQqiKFXA9"
      }
    },
    {
      "cell_type": "markdown",
      "source": [
        "そして転移学習からモデルを取り入れてニコイチしたらちゃんと学習させて結果などを確認しましょう。\n",
        "\n",
        "元々は1000クラス分類していたモデルを10クラス分類にしたのだから結果確認は当然必須ですよね。"
      ],
      "metadata": {
        "id": "eH0H19csFeeV"
      }
    },
    {
      "cell_type": "markdown",
      "source": [
        "# 実装"
      ],
      "metadata": {
        "id": "FPdqzqfyl264"
      }
    },
    {
      "cell_type": "markdown",
      "source": [
        "### モジュールのインポートとデータのロード"
      ],
      "metadata": {
        "id": "lHVS2ZIGyZ5j"
      }
    },
    {
      "cell_type": "code",
      "source": [
        "# モジュールのインポート\n",
        "from tensorflow.keras import optimizers\n",
        "from tensorflow.keras.applications.vgg16 import VGG16\n",
        "from tensorflow.keras.datasets import cifar10\n",
        "from tensorflow.keras.layers import Dense, Dropout, Flatten, Input\n",
        "from tensorflow.keras.models import Model, Sequential\n",
        "from tensorflow.keras.utils import to_categorical\n",
        "import matplotlib.pyplot as plt\n",
        "import numpy as np"
      ],
      "metadata": {
        "id": "putXOcYcW6f5"
      },
      "execution_count": null,
      "outputs": []
    },
    {
      "cell_type": "code",
      "source": [
        "# データのロードをしてください\n",
        "(X_train, y_train), (X_test, y_test) = cifar10.load_data()\n",
        "\n",
        "# y_train = to_categorical(y_train)\n",
        "# y_test = to_categorical(y_test)\n",
        "\n",
        "# 時間かかるのが嫌なので横着。\n",
        "X_train = X_train[:30000]\n",
        "X_test = X_test[:10000]\n",
        "\n",
        "y_train = to_categorical(y_train)[:30000]\n",
        "y_test = to_categorical(y_test)[:10000]"
      ],
      "metadata": {
        "id": "K1plFGlMXCCZ",
        "colab": {
          "base_uri": "https://localhost:8080/"
        },
        "outputId": "49947c70-28f6-40fd-a295-689aa8b023de"
      },
      "execution_count": null,
      "outputs": [
        {
          "output_type": "stream",
          "name": "stdout",
          "text": [
            "Downloading data from https://www.cs.toronto.edu/~kriz/cifar-10-python.tar.gz\n",
            "170500096/170498071 [==============================] - 2s 0us/step\n",
            "170508288/170498071 [==============================] - 2s 0us/step\n"
          ]
        }
      ]
    },
    {
      "cell_type": "code",
      "source": [
        "# データセットの個数を表示 ⇒只の確認。\n",
        "print(X_train.shape[0], 'train samples')\n",
        "print(y_train.shape[0], 'train samples')\n",
        "\n",
        "print(X_test.shape[0], 'test samples')\n",
        "print(y_test.shape[0], 'test samples')\n",
        "\n",
        "# データの形状を確認\n",
        "print(X_train[0].shape) # (32, 32, 3)\n",
        "print(y_train[0].shape) # (10,) ちゃんとカテゴリカル変数。\n"
      ],
      "metadata": {
        "colab": {
          "base_uri": "https://localhost:8080/"
        },
        "id": "iIhc7fmVXvrv",
        "outputId": "862a1793-5c2c-4de3-c27b-605d69fbba7c"
      },
      "execution_count": null,
      "outputs": [
        {
          "output_type": "stream",
          "name": "stdout",
          "text": [
            "30000 train samples\n",
            "30000 train samples\n",
            "10000 test samples\n",
            "10000 test samples\n",
            "(32, 32, 3)\n",
            "(10,)\n"
          ]
        }
      ]
    },
    {
      "cell_type": "markdown",
      "source": [
        "### 転移学習を用いたモデル構築\n",
        "VGG16を引数を指定しインポート\n",
        "\n",
        "[詳細はこちら](https://premium.aidemy.jp/courses/5100/exercises/HkqlI__opBM)"
      ],
      "metadata": {
        "id": "OLcWVkQ8yilS"
      }
    },
    {
      "cell_type": "markdown",
      "source": [
        "モデルBGG16のインポート時の引数が気になる方はこちら。 ⇒[引数①](https://qiita.com/sey323/items/29c24204b9881d79ccb7)　　[引数②](https://note.nkmk.me/python-tensorflow-keras-applications-pretrained-models/)\n",
        "\n",
        "include_top=False：<font color=\"red\">出力層</font>を除外しています。引用元と異なりますが、出力層です。\n",
        "\n",
        "状況に合わせてTrue or Falseを選択してください。　今回は元の100クラス分類でなく10クラス分類なのでFlase\n",
        "\n",
        "input_tensor:入力画像のshape\n",
        "\n",
        "weights='imagenet'：重みの種類。⇒因みにこれはデフォルトで重みを持ってきました。という事。"
      ],
      "metadata": {
        "id": "ntDJHNYVuFIz"
      }
    },
    {
      "cell_type": "markdown",
      "source": [
        "上記を参考にして引数を設定。input_tensorの定義等。\n",
        "そしたらモデルをインポート致します。　当然summaryで確認しましょう。"
      ],
      "metadata": {
        "id": "sXm6ZW4kZVll"
      }
    },
    {
      "cell_type": "code",
      "source": [
        "# 上記を参考にして引数を設定。input_tensorの定義等。\n",
        "input_tensor = Input(shape=(32, 32, 3))\n",
        "model_vgg16 = VGG16(include_top=False, weights='imagenet', input_tensor=input_tensor)\n",
        "\n",
        "model_vgg16.summary()"
      ],
      "metadata": {
        "colab": {
          "base_uri": "https://localhost:8080/"
        },
        "id": "TJStq1hKtbpM",
        "outputId": "f1a3f763-6015-4548-af41-49a7e1974a0f"
      },
      "execution_count": null,
      "outputs": [
        {
          "output_type": "stream",
          "name": "stdout",
          "text": [
            "Downloading data from https://storage.googleapis.com/tensorflow/keras-applications/vgg16/vgg16_weights_tf_dim_ordering_tf_kernels_notop.h5\n",
            "58892288/58889256 [==============================] - 0s 0us/step\n",
            "58900480/58889256 [==============================] - 0s 0us/step\n",
            "Model: \"vgg16\"\n",
            "_________________________________________________________________\n",
            " Layer (type)                Output Shape              Param #   \n",
            "=================================================================\n",
            " input_1 (InputLayer)        [(None, 32, 32, 3)]       0         \n",
            "                                                                 \n",
            " block1_conv1 (Conv2D)       (None, 32, 32, 64)        1792      \n",
            "                                                                 \n",
            " block1_conv2 (Conv2D)       (None, 32, 32, 64)        36928     \n",
            "                                                                 \n",
            " block1_pool (MaxPooling2D)  (None, 16, 16, 64)        0         \n",
            "                                                                 \n",
            " block2_conv1 (Conv2D)       (None, 16, 16, 128)       73856     \n",
            "                                                                 \n",
            " block2_conv2 (Conv2D)       (None, 16, 16, 128)       147584    \n",
            "                                                                 \n",
            " block2_pool (MaxPooling2D)  (None, 8, 8, 128)         0         \n",
            "                                                                 \n",
            " block3_conv1 (Conv2D)       (None, 8, 8, 256)         295168    \n",
            "                                                                 \n",
            " block3_conv2 (Conv2D)       (None, 8, 8, 256)         590080    \n",
            "                                                                 \n",
            " block3_conv3 (Conv2D)       (None, 8, 8, 256)         590080    \n",
            "                                                                 \n",
            " block3_pool (MaxPooling2D)  (None, 4, 4, 256)         0         \n",
            "                                                                 \n",
            " block4_conv1 (Conv2D)       (None, 4, 4, 512)         1180160   \n",
            "                                                                 \n",
            " block4_conv2 (Conv2D)       (None, 4, 4, 512)         2359808   \n",
            "                                                                 \n",
            " block4_conv3 (Conv2D)       (None, 4, 4, 512)         2359808   \n",
            "                                                                 \n",
            " block4_pool (MaxPooling2D)  (None, 2, 2, 512)         0         \n",
            "                                                                 \n",
            " block5_conv1 (Conv2D)       (None, 2, 2, 512)         2359808   \n",
            "                                                                 \n",
            " block5_conv2 (Conv2D)       (None, 2, 2, 512)         2359808   \n",
            "                                                                 \n",
            " block5_conv3 (Conv2D)       (None, 2, 2, 512)         2359808   \n",
            "                                                                 \n",
            " block5_pool (MaxPooling2D)  (None, 1, 1, 512)         0         \n",
            "                                                                 \n",
            "=================================================================\n",
            "Total params: 14,714,688\n",
            "Trainable params: 14,714,688\n",
            "Non-trainable params: 0\n",
            "_________________________________________________________________\n"
          ]
        }
      ]
    },
    {
      "cell_type": "markdown",
      "source": [
        "確認できましたでしょうか？これはまだ途中ですからね。\n",
        "このインポートしたやつと、<font color=\"red\">私が作成したもの</font>をニコイチします。"
      ],
      "metadata": {
        "id": "672cesUxZpkc"
      }
    },
    {
      "cell_type": "code",
      "source": [
        "# これが私が作成したコード出力層が10に収まっていますね。\n",
        "# 特徴量抽出部分のモデルを作成しています\n",
        "top_model = Sequential()\n",
        "\n",
        "top_model.add(Flatten(input_shape=model_vgg16.output_shape[1:]))\n",
        "top_model.add(Dense(256, activation='sigmoid'))\n",
        "top_model.add(Dropout(0.5))\n",
        "top_model.add(Dense(10, activation='softmax'))"
      ],
      "metadata": {
        "id": "npzG6KkFu1Tj"
      },
      "execution_count": null,
      "outputs": []
    },
    {
      "cell_type": "markdown",
      "source": [
        "上記はは単純にデータの形状のみを構築していますので実際に連結させましょう。　\n",
        "連結するコードはこちら\n",
        "\n",
        "\n",
        "```\n",
        "model = Model(inputs =model_vgg16.input,outputs=top_model(model_vgg16.output))\n",
        "```\n",
        "\n"
      ],
      "metadata": {
        "id": "njdoKyAUCHhU"
      }
    },
    {
      "cell_type": "code",
      "source": [
        "#連結するコード。\n",
        "model = Model(inputs =model_vgg16.input,outputs=top_model(model_vgg16.output))\n",
        "\n",
        "# inputs =model_vgg16.input\n",
        "# outputs=top_model(model_vgg16.output)"
      ],
      "metadata": {
        "id": "b3bPBZHvxG4Q"
      },
      "execution_count": null,
      "outputs": []
    },
    {
      "cell_type": "markdown",
      "source": [
        "vgg16は優れたモデルなので流用している訳ですよね。なので<font color=\"red\">重み</font>も固定しましょう。"
      ],
      "metadata": {
        "id": "l8xHFfFUbyIQ"
      }
    },
    {
      "cell_type": "markdown",
      "source": [
        "下記のコードにて**重みを固定**を行っております。\n",
        "\n",
        "転移学習で持ってきた重み15層までを動かないようにしております。\n",
        "\n",
        "そこから先は柔軟性を持たせるために動くようにしております。\n",
        "19層の中で15層までは固定。　残りの4層は<font color=\"red\">動かせる</font>ようにしている。"
      ],
      "metadata": {
        "id": "fGiyvR2Pz4VE"
      }
    },
    {
      "cell_type": "code",
      "source": [
        "# 15層目までの重みを固定しています。\n",
        "for layer in model.layers[:15]:\n",
        "    layer.trainable = False"
      ],
      "metadata": {
        "id": "fXZJZ3KrvRnC"
      },
      "execution_count": null,
      "outputs": []
    },
    {
      "cell_type": "code",
      "source": [
        "#　モデルの確認をしてみましょう\n",
        "model.summary()"
      ],
      "metadata": {
        "colab": {
          "base_uri": "https://localhost:8080/"
        },
        "id": "iP_D7CxcvVZh",
        "outputId": "a0323ec2-15d5-493c-bb63-d7e2bb542205"
      },
      "execution_count": null,
      "outputs": [
        {
          "output_type": "stream",
          "name": "stdout",
          "text": [
            "Model: \"model\"\n",
            "_________________________________________________________________\n",
            " Layer (type)                Output Shape              Param #   \n",
            "=================================================================\n",
            " input_1 (InputLayer)        [(None, 32, 32, 3)]       0         \n",
            "                                                                 \n",
            " block1_conv1 (Conv2D)       (None, 32, 32, 64)        1792      \n",
            "                                                                 \n",
            " block1_conv2 (Conv2D)       (None, 32, 32, 64)        36928     \n",
            "                                                                 \n",
            " block1_pool (MaxPooling2D)  (None, 16, 16, 64)        0         \n",
            "                                                                 \n",
            " block2_conv1 (Conv2D)       (None, 16, 16, 128)       73856     \n",
            "                                                                 \n",
            " block2_conv2 (Conv2D)       (None, 16, 16, 128)       147584    \n",
            "                                                                 \n",
            " block2_pool (MaxPooling2D)  (None, 8, 8, 128)         0         \n",
            "                                                                 \n",
            " block3_conv1 (Conv2D)       (None, 8, 8, 256)         295168    \n",
            "                                                                 \n",
            " block3_conv2 (Conv2D)       (None, 8, 8, 256)         590080    \n",
            "                                                                 \n",
            " block3_conv3 (Conv2D)       (None, 8, 8, 256)         590080    \n",
            "                                                                 \n",
            " block3_pool (MaxPooling2D)  (None, 4, 4, 256)         0         \n",
            "                                                                 \n",
            " block4_conv1 (Conv2D)       (None, 4, 4, 512)         1180160   \n",
            "                                                                 \n",
            " block4_conv2 (Conv2D)       (None, 4, 4, 512)         2359808   \n",
            "                                                                 \n",
            " block4_conv3 (Conv2D)       (None, 4, 4, 512)         2359808   \n",
            "                                                                 \n",
            " block4_pool (MaxPooling2D)  (None, 2, 2, 512)         0         \n",
            "                                                                 \n",
            " block5_conv1 (Conv2D)       (None, 2, 2, 512)         2359808   \n",
            "                                                                 \n",
            " block5_conv2 (Conv2D)       (None, 2, 2, 512)         2359808   \n",
            "                                                                 \n",
            " block5_conv3 (Conv2D)       (None, 2, 2, 512)         2359808   \n",
            "                                                                 \n",
            " block5_pool (MaxPooling2D)  (None, 1, 1, 512)         0         \n",
            "                                                                 \n",
            " sequential (Sequential)     (None, 10)                133898    \n",
            "                                                                 \n",
            "=================================================================\n",
            "Total params: 14,848,586\n",
            "Trainable params: 7,213,322\n",
            "Non-trainable params: 7,635,264\n",
            "_________________________________________________________________\n"
          ]
        }
      ]
    },
    {
      "cell_type": "markdown",
      "source": [
        "### 学習と精度評価"
      ],
      "metadata": {
        "id": "SFIuu4ErvjZg"
      }
    },
    {
      "cell_type": "markdown",
      "source": [
        "連結した後(out put先)のモデルを指定してください。今回は<font color=\"red\">model</font>\n",
        "\n",
        "```\n",
        "model.compile\n",
        "```\n"
      ],
      "metadata": {
        "id": "FzlqG4z6Eg5u"
      }
    },
    {
      "cell_type": "code",
      "source": [
        "# コンパイルをしています\n",
        "model.compile(loss='categorical_crossentropy',\n",
        "              optimizer=optimizers.SGD(lr=1e-4, momentum=0.9),\n",
        "              metrics=['accuracy'])"
      ],
      "metadata": {
        "colab": {
          "base_uri": "https://localhost:8080/"
        },
        "id": "z7HVg_suvlcw",
        "outputId": "236faead-31b7-4700-d487-3594f63d2c77"
      },
      "execution_count": null,
      "outputs": [
        {
          "output_type": "stream",
          "name": "stderr",
          "text": [
            "/usr/local/lib/python3.7/dist-packages/keras/optimizer_v2/gradient_descent.py:102: UserWarning: The `lr` argument is deprecated, use `learning_rate` instead.\n",
            "  super(SGD, self).__init__(name, **kwargs)\n"
          ]
        }
      ]
    },
    {
      "cell_type": "code",
      "source": [
        "# ハイパーパラメータ\n",
        "batch_size = 256  # バッチサイズ 32,64,128,256,512 あたり\n",
        "epochs = 100       # エポック数(学習の繰り返し回数)\n",
        "val_split = 0,1   # 訓練データのうちx%をvalidation dataとして分割して使います。\n",
        "pati_time = 15    # y回学習しても向上しない場合は学習を打ち切ります。"
      ],
      "metadata": {
        "id": "1SlK5V2keXwH"
      },
      "execution_count": null,
      "outputs": []
    },
    {
      "cell_type": "code",
      "source": [
        "from keras import callbacks                   # コールバック（1epoch終了毎に呼び出される）\n",
        "\n",
        "    # 構築したモデルで学習（学習データ:trainのうち、10％を検証データ:validationとして使用）\n",
        "history = model.fit(X_train, \n",
        "                        y_train, \n",
        "                        batch_size=batch_size, \n",
        "                        epochs=epochs, \n",
        "                        verbose=1, \n",
        "                        validation_split=0.1,\n",
        "                        callbacks=[\n",
        "                            callbacks.EarlyStopping(monitor='val_loss',patience = pati_time),\n",
        "                            callbacks.ModelCheckpoint(filepath = './model/best_model.h5',monitor='val_loss', save_best_only=True)\n",
        "                            ]\n",
        "                    )"
      ],
      "metadata": {
        "colab": {
          "base_uri": "https://localhost:8080/"
        },
        "id": "xSRbz8J4eTKX",
        "outputId": "d32497bf-30bc-4e7a-8c63-98a6ec885a61"
      },
      "execution_count": null,
      "outputs": [
        {
          "output_type": "stream",
          "name": "stdout",
          "text": [
            "Epoch 1/100\n",
            "106/106 [==============================] - 11s 100ms/step - loss: 1.1880 - accuracy: 0.6028 - val_loss: 1.0390 - val_accuracy: 0.6543\n",
            "Epoch 2/100\n",
            "106/106 [==============================] - 10s 99ms/step - loss: 1.1513 - accuracy: 0.6120 - val_loss: 1.0140 - val_accuracy: 0.6670\n",
            "Epoch 3/100\n",
            "106/106 [==============================] - 10s 94ms/step - loss: 1.1255 - accuracy: 0.6200 - val_loss: 1.0047 - val_accuracy: 0.6650\n",
            "Epoch 4/100\n",
            "106/106 [==============================] - 11s 102ms/step - loss: 1.1023 - accuracy: 0.6324 - val_loss: 0.9832 - val_accuracy: 0.6730\n",
            "Epoch 5/100\n",
            "106/106 [==============================] - 10s 93ms/step - loss: 1.0839 - accuracy: 0.6387 - val_loss: 0.9702 - val_accuracy: 0.6733\n",
            "Epoch 6/100\n",
            "106/106 [==============================] - 10s 94ms/step - loss: 1.0606 - accuracy: 0.6439 - val_loss: 0.9600 - val_accuracy: 0.6727\n",
            "Epoch 7/100\n",
            "106/106 [==============================] - 10s 94ms/step - loss: 1.0351 - accuracy: 0.6552 - val_loss: 0.9420 - val_accuracy: 0.6837\n",
            "Epoch 8/100\n",
            "106/106 [==============================] - 10s 94ms/step - loss: 1.0171 - accuracy: 0.6616 - val_loss: 0.9358 - val_accuracy: 0.6850\n",
            "Epoch 9/100\n",
            "106/106 [==============================] - 10s 94ms/step - loss: 1.0040 - accuracy: 0.6671 - val_loss: 0.9211 - val_accuracy: 0.6893\n",
            "Epoch 10/100\n",
            "106/106 [==============================] - 10s 94ms/step - loss: 0.9890 - accuracy: 0.6705 - val_loss: 0.9132 - val_accuracy: 0.6913\n",
            "Epoch 11/100\n",
            "106/106 [==============================] - 10s 93ms/step - loss: 0.9738 - accuracy: 0.6763 - val_loss: 0.9055 - val_accuracy: 0.6977\n",
            "Epoch 12/100\n",
            "106/106 [==============================] - 11s 103ms/step - loss: 0.9526 - accuracy: 0.6807 - val_loss: 0.8971 - val_accuracy: 0.6993\n",
            "Epoch 13/100\n",
            "106/106 [==============================] - 11s 101ms/step - loss: 0.9373 - accuracy: 0.6859 - val_loss: 0.8923 - val_accuracy: 0.6973\n",
            "Epoch 14/100\n",
            "106/106 [==============================] - 10s 94ms/step - loss: 0.9237 - accuracy: 0.6913 - val_loss: 0.8819 - val_accuracy: 0.7017\n",
            "Epoch 15/100\n",
            "106/106 [==============================] - 10s 96ms/step - loss: 0.9144 - accuracy: 0.6941 - val_loss: 0.8741 - val_accuracy: 0.7047\n",
            "Epoch 16/100\n",
            "106/106 [==============================] - 11s 100ms/step - loss: 0.9004 - accuracy: 0.7026 - val_loss: 0.8736 - val_accuracy: 0.7030\n",
            "Epoch 17/100\n",
            "106/106 [==============================] - 11s 101ms/step - loss: 0.8896 - accuracy: 0.7039 - val_loss: 0.8629 - val_accuracy: 0.7057\n",
            "Epoch 18/100\n",
            "106/106 [==============================] - 10s 95ms/step - loss: 0.8731 - accuracy: 0.7090 - val_loss: 0.8568 - val_accuracy: 0.7143\n",
            "Epoch 19/100\n",
            "106/106 [==============================] - 11s 102ms/step - loss: 0.8651 - accuracy: 0.7123 - val_loss: 0.8510 - val_accuracy: 0.7103\n",
            "Epoch 20/100\n",
            "106/106 [==============================] - 10s 94ms/step - loss: 0.8494 - accuracy: 0.7171 - val_loss: 0.8466 - val_accuracy: 0.7153\n",
            "Epoch 21/100\n",
            "106/106 [==============================] - 10s 95ms/step - loss: 0.8357 - accuracy: 0.7227 - val_loss: 0.8433 - val_accuracy: 0.7150\n",
            "Epoch 22/100\n",
            "106/106 [==============================] - 11s 102ms/step - loss: 0.8277 - accuracy: 0.7247 - val_loss: 0.8369 - val_accuracy: 0.7173\n",
            "Epoch 23/100\n",
            "106/106 [==============================] - 10s 94ms/step - loss: 0.8204 - accuracy: 0.7288 - val_loss: 0.8315 - val_accuracy: 0.7150\n",
            "Epoch 24/100\n",
            "106/106 [==============================] - 10s 93ms/step - loss: 0.8137 - accuracy: 0.7302 - val_loss: 0.8257 - val_accuracy: 0.7190\n",
            "Epoch 25/100\n",
            "106/106 [==============================] - 10s 91ms/step - loss: 0.7965 - accuracy: 0.7346 - val_loss: 0.8264 - val_accuracy: 0.7153\n",
            "Epoch 26/100\n",
            "106/106 [==============================] - 10s 96ms/step - loss: 0.7910 - accuracy: 0.7387 - val_loss: 0.8188 - val_accuracy: 0.7197\n",
            "Epoch 27/100\n",
            "106/106 [==============================] - 10s 90ms/step - loss: 0.7824 - accuracy: 0.7389 - val_loss: 0.8204 - val_accuracy: 0.7190\n",
            "Epoch 28/100\n",
            "106/106 [==============================] - 10s 96ms/step - loss: 0.7702 - accuracy: 0.7452 - val_loss: 0.8103 - val_accuracy: 0.7227\n",
            "Epoch 29/100\n",
            "106/106 [==============================] - 10s 97ms/step - loss: 0.7608 - accuracy: 0.7480 - val_loss: 0.8057 - val_accuracy: 0.7267\n",
            "Epoch 30/100\n",
            "106/106 [==============================] - 9s 89ms/step - loss: 0.7582 - accuracy: 0.7489 - val_loss: 0.8065 - val_accuracy: 0.7267\n",
            "Epoch 31/100\n",
            "106/106 [==============================] - 10s 96ms/step - loss: 0.7472 - accuracy: 0.7507 - val_loss: 0.8002 - val_accuracy: 0.7247\n",
            "Epoch 32/100\n",
            "106/106 [==============================] - 10s 92ms/step - loss: 0.7390 - accuracy: 0.7554 - val_loss: 0.8011 - val_accuracy: 0.7253\n",
            "Epoch 33/100\n",
            "106/106 [==============================] - 10s 95ms/step - loss: 0.7287 - accuracy: 0.7607 - val_loss: 0.7949 - val_accuracy: 0.7300\n",
            "Epoch 34/100\n",
            "106/106 [==============================] - 10s 97ms/step - loss: 0.7255 - accuracy: 0.7607 - val_loss: 0.7920 - val_accuracy: 0.7303\n",
            "Epoch 35/100\n",
            "106/106 [==============================] - 10s 97ms/step - loss: 0.7199 - accuracy: 0.7626 - val_loss: 0.7901 - val_accuracy: 0.7310\n",
            "Epoch 36/100\n",
            "106/106 [==============================] - 10s 97ms/step - loss: 0.7153 - accuracy: 0.7643 - val_loss: 0.7861 - val_accuracy: 0.7290\n",
            "Epoch 37/100\n",
            "106/106 [==============================] - 10s 96ms/step - loss: 0.7085 - accuracy: 0.7655 - val_loss: 0.7870 - val_accuracy: 0.7297\n",
            "Epoch 38/100\n",
            "106/106 [==============================] - 11s 102ms/step - loss: 0.6939 - accuracy: 0.7713 - val_loss: 0.7819 - val_accuracy: 0.7307\n",
            "Epoch 39/100\n",
            "106/106 [==============================] - 10s 98ms/step - loss: 0.6907 - accuracy: 0.7713 - val_loss: 0.7815 - val_accuracy: 0.7313\n",
            "Epoch 40/100\n",
            "106/106 [==============================] - 10s 98ms/step - loss: 0.6863 - accuracy: 0.7746 - val_loss: 0.7785 - val_accuracy: 0.7333\n",
            "Epoch 41/100\n",
            "106/106 [==============================] - 10s 97ms/step - loss: 0.6751 - accuracy: 0.7786 - val_loss: 0.7760 - val_accuracy: 0.7337\n",
            "Epoch 42/100\n",
            "106/106 [==============================] - 10s 97ms/step - loss: 0.6693 - accuracy: 0.7782 - val_loss: 0.7754 - val_accuracy: 0.7363\n",
            "Epoch 43/100\n",
            "106/106 [==============================] - 10s 96ms/step - loss: 0.6653 - accuracy: 0.7843 - val_loss: 0.7718 - val_accuracy: 0.7413\n",
            "Epoch 44/100\n",
            "106/106 [==============================] - 10s 95ms/step - loss: 0.6585 - accuracy: 0.7844 - val_loss: 0.7693 - val_accuracy: 0.7350\n",
            "Epoch 45/100\n",
            "106/106 [==============================] - 10s 98ms/step - loss: 0.6538 - accuracy: 0.7838 - val_loss: 0.7683 - val_accuracy: 0.7373\n",
            "Epoch 46/100\n",
            "106/106 [==============================] - 10s 95ms/step - loss: 0.6430 - accuracy: 0.7878 - val_loss: 0.7664 - val_accuracy: 0.7390\n",
            "Epoch 47/100\n",
            "106/106 [==============================] - 10s 90ms/step - loss: 0.6352 - accuracy: 0.7913 - val_loss: 0.7678 - val_accuracy: 0.7437\n",
            "Epoch 48/100\n",
            "106/106 [==============================] - 11s 102ms/step - loss: 0.6328 - accuracy: 0.7919 - val_loss: 0.7625 - val_accuracy: 0.7390\n",
            "Epoch 49/100\n",
            "106/106 [==============================] - 10s 96ms/step - loss: 0.6255 - accuracy: 0.7937 - val_loss: 0.7623 - val_accuracy: 0.7390\n",
            "Epoch 50/100\n",
            "106/106 [==============================] - 10s 96ms/step - loss: 0.6215 - accuracy: 0.7958 - val_loss: 0.7587 - val_accuracy: 0.7443\n",
            "Epoch 51/100\n",
            "106/106 [==============================] - 10s 91ms/step - loss: 0.6168 - accuracy: 0.8013 - val_loss: 0.7592 - val_accuracy: 0.7430\n",
            "Epoch 52/100\n",
            "106/106 [==============================] - 11s 101ms/step - loss: 0.6209 - accuracy: 0.7948 - val_loss: 0.7554 - val_accuracy: 0.7417\n",
            "Epoch 53/100\n",
            "106/106 [==============================] - 10s 96ms/step - loss: 0.6096 - accuracy: 0.8009 - val_loss: 0.7548 - val_accuracy: 0.7410\n",
            "Epoch 54/100\n",
            "106/106 [==============================] - 10s 96ms/step - loss: 0.6058 - accuracy: 0.8008 - val_loss: 0.7536 - val_accuracy: 0.7437\n",
            "Epoch 55/100\n",
            "106/106 [==============================] - 10s 96ms/step - loss: 0.5977 - accuracy: 0.8041 - val_loss: 0.7521 - val_accuracy: 0.7433\n",
            "Epoch 56/100\n",
            "106/106 [==============================] - 10s 97ms/step - loss: 0.5885 - accuracy: 0.8078 - val_loss: 0.7518 - val_accuracy: 0.7467\n",
            "Epoch 57/100\n",
            "106/106 [==============================] - 10s 95ms/step - loss: 0.5905 - accuracy: 0.8071 - val_loss: 0.7507 - val_accuracy: 0.7470\n",
            "Epoch 58/100\n",
            "106/106 [==============================] - 10s 94ms/step - loss: 0.5803 - accuracy: 0.8087 - val_loss: 0.7530 - val_accuracy: 0.7437\n",
            "Epoch 59/100\n",
            "106/106 [==============================] - 10s 96ms/step - loss: 0.5805 - accuracy: 0.8109 - val_loss: 0.7473 - val_accuracy: 0.7453\n",
            "Epoch 60/100\n",
            "106/106 [==============================] - 10s 90ms/step - loss: 0.5745 - accuracy: 0.8133 - val_loss: 0.7476 - val_accuracy: 0.7483\n",
            "Epoch 61/100\n",
            "106/106 [==============================] - 11s 102ms/step - loss: 0.5692 - accuracy: 0.8141 - val_loss: 0.7452 - val_accuracy: 0.7457\n",
            "Epoch 62/100\n",
            "106/106 [==============================] - 11s 102ms/step - loss: 0.5625 - accuracy: 0.8187 - val_loss: 0.7440 - val_accuracy: 0.7443\n",
            "Epoch 63/100\n",
            "106/106 [==============================] - 10s 96ms/step - loss: 0.5575 - accuracy: 0.8186 - val_loss: 0.7440 - val_accuracy: 0.7467\n",
            "Epoch 64/100\n",
            "106/106 [==============================] - 10s 98ms/step - loss: 0.5531 - accuracy: 0.8204 - val_loss: 0.7418 - val_accuracy: 0.7510\n",
            "Epoch 65/100\n",
            "106/106 [==============================] - 10s 96ms/step - loss: 0.5491 - accuracy: 0.8233 - val_loss: 0.7419 - val_accuracy: 0.7463\n",
            "Epoch 66/100\n",
            "106/106 [==============================] - 10s 97ms/step - loss: 0.5497 - accuracy: 0.8214 - val_loss: 0.7414 - val_accuracy: 0.7493\n",
            "Epoch 67/100\n",
            "106/106 [==============================] - 10s 98ms/step - loss: 0.5415 - accuracy: 0.8211 - val_loss: 0.7367 - val_accuracy: 0.7497\n",
            "Epoch 68/100\n",
            "106/106 [==============================] - 10s 92ms/step - loss: 0.5334 - accuracy: 0.8270 - val_loss: 0.7389 - val_accuracy: 0.7480\n",
            "Epoch 69/100\n",
            "106/106 [==============================] - 10s 97ms/step - loss: 0.5350 - accuracy: 0.8264 - val_loss: 0.7370 - val_accuracy: 0.7470\n",
            "Epoch 70/100\n",
            "106/106 [==============================] - 10s 97ms/step - loss: 0.5275 - accuracy: 0.8290 - val_loss: 0.7357 - val_accuracy: 0.7507\n",
            "Epoch 71/100\n",
            "106/106 [==============================] - 11s 102ms/step - loss: 0.5272 - accuracy: 0.8290 - val_loss: 0.7334 - val_accuracy: 0.7477\n",
            "Epoch 72/100\n",
            "106/106 [==============================] - 9s 88ms/step - loss: 0.5192 - accuracy: 0.8322 - val_loss: 0.7336 - val_accuracy: 0.7467\n",
            "Epoch 73/100\n",
            "106/106 [==============================] - 10s 94ms/step - loss: 0.5171 - accuracy: 0.8332 - val_loss: 0.7339 - val_accuracy: 0.7483\n",
            "Epoch 74/100\n",
            "106/106 [==============================] - 10s 95ms/step - loss: 0.5149 - accuracy: 0.8323 - val_loss: 0.7320 - val_accuracy: 0.7510\n",
            "Epoch 75/100\n",
            "106/106 [==============================] - 10s 92ms/step - loss: 0.5100 - accuracy: 0.8362 - val_loss: 0.7325 - val_accuracy: 0.7493\n",
            "Epoch 76/100\n",
            "106/106 [==============================] - 10s 96ms/step - loss: 0.5057 - accuracy: 0.8354 - val_loss: 0.7293 - val_accuracy: 0.7500\n",
            "Epoch 77/100\n",
            "106/106 [==============================] - 10s 91ms/step - loss: 0.5047 - accuracy: 0.8373 - val_loss: 0.7299 - val_accuracy: 0.7517\n",
            "Epoch 78/100\n",
            "106/106 [==============================] - 10s 95ms/step - loss: 0.5009 - accuracy: 0.8392 - val_loss: 0.7306 - val_accuracy: 0.7523\n",
            "Epoch 79/100\n",
            "106/106 [==============================] - 10s 99ms/step - loss: 0.4964 - accuracy: 0.8419 - val_loss: 0.7287 - val_accuracy: 0.7500\n",
            "Epoch 80/100\n",
            "106/106 [==============================] - 10s 98ms/step - loss: 0.4906 - accuracy: 0.8433 - val_loss: 0.7265 - val_accuracy: 0.7497\n",
            "Epoch 81/100\n",
            "106/106 [==============================] - 10s 98ms/step - loss: 0.4859 - accuracy: 0.8453 - val_loss: 0.7260 - val_accuracy: 0.7520\n",
            "Epoch 82/100\n",
            "106/106 [==============================] - 10s 96ms/step - loss: 0.4849 - accuracy: 0.8446 - val_loss: 0.7292 - val_accuracy: 0.7510\n",
            "Epoch 83/100\n",
            "106/106 [==============================] - 10s 92ms/step - loss: 0.4781 - accuracy: 0.8477 - val_loss: 0.7269 - val_accuracy: 0.7500\n",
            "Epoch 84/100\n",
            "106/106 [==============================] - 10s 98ms/step - loss: 0.4755 - accuracy: 0.8499 - val_loss: 0.7241 - val_accuracy: 0.7523\n",
            "Epoch 85/100\n",
            "106/106 [==============================] - 10s 97ms/step - loss: 0.4727 - accuracy: 0.8500 - val_loss: 0.7241 - val_accuracy: 0.7493\n",
            "Epoch 86/100\n",
            "106/106 [==============================] - 10s 97ms/step - loss: 0.4685 - accuracy: 0.8532 - val_loss: 0.7222 - val_accuracy: 0.7513\n",
            "Epoch 87/100\n",
            "106/106 [==============================] - 10s 91ms/step - loss: 0.4672 - accuracy: 0.8521 - val_loss: 0.7241 - val_accuracy: 0.7547\n",
            "Epoch 88/100\n",
            "106/106 [==============================] - 10s 97ms/step - loss: 0.4599 - accuracy: 0.8546 - val_loss: 0.7221 - val_accuracy: 0.7470\n",
            "Epoch 89/100\n",
            "106/106 [==============================] - 10s 91ms/step - loss: 0.4581 - accuracy: 0.8534 - val_loss: 0.7224 - val_accuracy: 0.7527\n",
            "Epoch 90/100\n",
            "106/106 [==============================] - 10s 97ms/step - loss: 0.4585 - accuracy: 0.8529 - val_loss: 0.7204 - val_accuracy: 0.7530\n",
            "Epoch 91/100\n",
            "106/106 [==============================] - 10s 98ms/step - loss: 0.4510 - accuracy: 0.8573 - val_loss: 0.7198 - val_accuracy: 0.7503\n",
            "Epoch 92/100\n",
            "106/106 [==============================] - 10s 92ms/step - loss: 0.4477 - accuracy: 0.8576 - val_loss: 0.7216 - val_accuracy: 0.7537\n",
            "Epoch 93/100\n",
            "106/106 [==============================] - 11s 102ms/step - loss: 0.4436 - accuracy: 0.8598 - val_loss: 0.7177 - val_accuracy: 0.7537\n",
            "Epoch 94/100\n",
            "106/106 [==============================] - 10s 91ms/step - loss: 0.4419 - accuracy: 0.8591 - val_loss: 0.7210 - val_accuracy: 0.7537\n",
            "Epoch 95/100\n",
            "106/106 [==============================] - 10s 91ms/step - loss: 0.4370 - accuracy: 0.8619 - val_loss: 0.7187 - val_accuracy: 0.7510\n",
            "Epoch 96/100\n",
            "106/106 [==============================] - 10s 96ms/step - loss: 0.4375 - accuracy: 0.8611 - val_loss: 0.7165 - val_accuracy: 0.7523\n",
            "Epoch 97/100\n",
            "106/106 [==============================] - 10s 98ms/step - loss: 0.4335 - accuracy: 0.8618 - val_loss: 0.7157 - val_accuracy: 0.7523\n",
            "Epoch 98/100\n",
            "106/106 [==============================] - 11s 103ms/step - loss: 0.4310 - accuracy: 0.8657 - val_loss: 0.7156 - val_accuracy: 0.7513\n",
            "Epoch 99/100\n",
            "106/106 [==============================] - 10s 92ms/step - loss: 0.4227 - accuracy: 0.8642 - val_loss: 0.7157 - val_accuracy: 0.7557\n",
            "Epoch 100/100\n",
            "106/106 [==============================] - 10s 99ms/step - loss: 0.4215 - accuracy: 0.8692 - val_loss: 0.7168 - val_accuracy: 0.7537\n"
          ]
        }
      ]
    },
    {
      "cell_type": "markdown",
      "source": [
        "### 精度評価"
      ],
      "metadata": {
        "id": "6ipRRPlW06Bi"
      }
    },
    {
      "cell_type": "code",
      "source": [
        "import matplotlib.pyplot as plt\n",
        "import seaborn as sns\n",
        "plt.figure(figsize=(10,6))\n",
        "# 学習過程のプロット\n",
        "plt.plot(history.epoch, history.history[\"loss\"], label=\"loss\")\n",
        "plt.plot(history.epoch, history.history[\"val_loss\"], label=\"val_loss\")\n",
        "\n",
        "plt.legend()"
      ],
      "metadata": {
        "colab": {
          "base_uri": "https://localhost:8080/",
          "height": 391
        },
        "id": "hOW3ZIJFk9tI",
        "outputId": "ed5a7add-8327-4498-d67e-9105641489fd"
      },
      "execution_count": null,
      "outputs": [
        {
          "output_type": "execute_result",
          "data": {
            "text/plain": [
              "<matplotlib.legend.Legend at 0x7f4b423782d0>"
            ]
          },
          "metadata": {},
          "execution_count": 15
        },
        {
          "output_type": "display_data",
          "data": {
            "text/plain": [
              "<Figure size 720x432 with 1 Axes>"
            ],
            "image/png": "[encoded data removed]"
          },
          "metadata": {
            "needs_background": "light"
          }
        }
      ]
    },
    {
      "cell_type": "code",
      "source": [
        "import matplotlib.pyplot as plt\n",
        "import seaborn as sns\n",
        "plt.figure(figsize=(10,6))\n",
        "# 学習過程のプロット\n",
        "\n",
        "plt.plot(history.epoch, history.history[\"accuracy\"], label=\"accuancy\")\n",
        "plt.plot(history.epoch, history.history[\"val_accuracy\"], label=\"val_accuracy\")\n",
        "\n",
        "plt.legend()"
      ],
      "metadata": {
        "colab": {
          "base_uri": "https://localhost:8080/",
          "height": 391
        },
        "id": "jffKJr3ilAjo",
        "outputId": "36385bfb-0c47-4c6d-8993-98db69302053"
      },
      "execution_count": null,
      "outputs": [
        {
          "output_type": "execute_result",
          "data": {
            "text/plain": [
              "<matplotlib.legend.Legend at 0x7f4b422fe4d0>"
            ]
          },
          "metadata": {},
          "execution_count": 16
        },
        {
          "output_type": "display_data",
          "data": {
            "text/plain": [
              "<Figure size 720x432 with 1 Axes>"
            ],
            "image/png": "[encoded data removed]"
          },
          "metadata": {
            "needs_background": "light"
          }
        }
      ]
    },
    {
      "cell_type": "markdown",
      "source": [
        "40位で打ち止めがよさそうか？"
      ],
      "metadata": {
        "id": "A2euTbBTlGHP"
      }
    },
    {
      "cell_type": "code",
      "source": [
        "# テストデータを用いた最終的、パフォーマンス計測\n",
        "score = model.evaluate(X_test, \n",
        "                            y_test,\n",
        "                            verbose=0\n",
        "                            )\n",
        " \n",
        "print(\"testデータでのloss：\",score[0]) # lossの表示。\n",
        "print(\"testデータでのaccuracy：\",score[1]) # accuracyの表示。"
      ],
      "metadata": {
        "id": "YJR_nhXZwNT9",
        "colab": {
          "base_uri": "https://localhost:8080/"
        },
        "outputId": "af97708c-9592-4964-ee0c-e2cbd0022e69"
      },
      "execution_count": null,
      "outputs": [
        {
          "output_type": "stream",
          "name": "stdout",
          "text": [
            "testデータでのloss： 0.7423763871192932\n",
            "testデータでのaccuracy： 0.7504000067710876\n"
          ]
        }
      ]
    },
    {
      "cell_type": "code",
      "source": [
        "# データの可視化（検証データの先頭の10枚）\n",
        "for i in range(10):\n",
        "    plt.subplot(2, 5, i+1)\n",
        "    plt.imshow(X_test[i])\n",
        "plt.suptitle(\"10 images of test data\",fontsize=10)\n",
        "plt.show()\n",
        "\n",
        "# 予測（検証データの先頭の10枚）\n",
        "pred = np.argmax(model.predict(X_test[0:10]), axis=1)\n",
        "\n",
        "# 実測値(y_test)\n",
        "acutal = np.argmax(y_test[0:10], axis=1)\n",
        "\n",
        "# 正解率\n",
        "from sklearn.metrics import accuracy_score\n",
        "acc = accuracy_score(pred,acutal)\n",
        "\n",
        "scores = model.evaluate(X_test, y_test, verbose=1)\n",
        "print(\"これが予測値です\",pred)\n",
        "print(\"これが実測値です\",acutal)\n",
        "print(\"これが正解率です\",acc)"
      ],
      "metadata": {
        "colab": {
          "base_uri": "https://localhost:8080/",
          "height": 343
        },
        "id": "fxxgnKndlgsK",
        "outputId": "cfb7cee4-9b94-4519-e85c-2150ee45c05b"
      },
      "execution_count": null,
      "outputs": [
        {
          "output_type": "display_data",
          "data": {
            "text/plain": [
              "<Figure size 432x288 with 10 Axes>"
            ],
            "image/png": "[encoded data removed]"
          },
          "metadata": {
            "needs_background": "light"
          }
        },
        {
          "output_type": "stream",
          "name": "stdout",
          "text": [
            "313/313 [==============================] - 8s 25ms/step - loss: 0.7424 - accuracy: 0.7504\n",
            "これが予測値です [3 8 8 0 6 6 1 6 3 9]\n",
            "これが実測値です [3 8 8 0 6 6 1 6 3 1]\n",
            "これが正解率です 0.9\n"
          ]
        }
      ]
    }
  ]
}