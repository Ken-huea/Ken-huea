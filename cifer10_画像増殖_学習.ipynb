{
  "nbformat": 4,
  "nbformat_minor": 0,
  "metadata": {
    "colab": {
      "provenance": [],
      "collapsed_sections": [
        "P89XSqDurFbT",
        "a6VIgkhpoo3S",
        "sm3fA2xhpFwO"
      ],
      "authorship_tag": "ABX9TyPSDv2nbVvmc/P3FCV2AFVf",
      "include_colab_link": true
    },
    "kernelspec": {
      "name": "python3",
      "display_name": "Python 3"
    },
    "language_info": {
      "name": "python"
    }
  },
  "cells": [
    {
      "cell_type": "markdown",
      "metadata": {
        "id": "view-in-github",
        "colab_type": "text"
      },
      "source": [
        "<a href=\"https://colab.research.google.com/github/Ken-huea/image-recognition/blob/main/cifer10_%E7%94%BB%E5%83%8F%E5%A2%97%E6%AE%96_%E5%AD%A6%E7%BF%92.ipynb\" target=\"_parent\"><img src=\"https://colab.research.google.com/assets/colab-badge.svg\" alt=\"Open In Colab\"/></a>"
      ]
    },
    {
      "cell_type": "markdown",
      "source": [
        "## CNNと分類\n",
        "\n",
        "今回は少ないデータでも画像を水増しして学習させるというコンセプトで行います。\n",
        "少ない画像数を水増しして補っていこうという事ですね。"
      ],
      "metadata": {
        "id": "SJeDAjjvR2xM"
      }
    },
    {
      "cell_type": "markdown",
      "source": [
        "簡単な流れはこちらです。\n",
        "\n",
        "① cifar10から訓練画像データを取得\n",
        "\n",
        "② そのデータをビジュアルにて確認。plt.imshow()\n",
        "\n",
        "③ 水増し/正規化の独自関数を作成し画像を突っ込む。\n",
        "その際に、for文で回したり等工夫を行うと宜し。\n",
        "\n",
        "④画像が増える。トレインデータの水増し＆質の向上。\n",
        "\n",
        "⑤ラベルデータの増殖も行う。\n",
        "\n",
        "⑥水増しされた画像を、CNNモデル学習用に整形。⇒<font color=\"red\">注:</font>学習に用いる\n",
        "水増しした画像はトレインデータにのみ用いる事。\n",
        "\n",
        "テストデータは本当にテストに用いるべきものである。\n",
        "水増しされた画像をテストデータに用いるとカンニングでしょう。"
      ],
      "metadata": {
        "id": "eX9QnVphC45d"
      }
    },
    {
      "cell_type": "markdown",
      "source": [
        "### データ準備と分割"
      ],
      "metadata": {
        "id": "2LUtDW7CRbvJ"
      }
    },
    {
      "cell_type": "code",
      "source": [
        "from tensorflow import keras\n",
        "from tensorflow.keras.datasets import cifar10\n",
        "from tensorflow.keras.layers import Activation, Conv2D, Dense, Dropout, Flatten, MaxPooling2D\n",
        "from tensorflow.keras.models import Sequential, load_model\n",
        "from tensorflow.keras.utils import to_categorical\n",
        "import numpy as np\n",
        "import matplotlib.pyplot as plt"
      ],
      "metadata": {
        "id": "_ptN18zwQ-kT"
      },
      "execution_count": 1,
      "outputs": []
    },
    {
      "cell_type": "markdown",
      "source": [
        "ここで今回はインポートするデータを<font color=\"red\">極端に少なくします</font>。\n",
        "\n",
        "そして画像データを増殖するという事は正解ラベルも増殖するという事です。\n",
        "増殖した後に正解ラベルをカテゴリカル分類致しましょう。\n"
      ],
      "metadata": {
        "id": "wpQWFbmrdQm1"
      }
    },
    {
      "cell_type": "code",
      "source": [
        "# データのロード。してトレインとテスト分割\n",
        "(X_train, y_train), (X_test, y_test) = cifar10.load_data()\n",
        "\n",
        "# トレインデータ(極少)をダウンロード。\n",
        "X_train = X_train[:1000]\n",
        "y_train =y_train[:1000]\n",
        "\n",
        "\n",
        "# テストデータをダウンロード\n",
        "X_test = X_test[:50]\n",
        "y_test =y_test[:50]\n",
        "\n",
        "\n",
        "#  正解ラベルもダウンロード。\n",
        "# y_train =y_train[:5]\n",
        "# y_test =y_test[:5]\n",
        "\n",
        "# データセットの個数を表示し確認。\n",
        "print(X_train.shape[0], 'train samples')\n",
        "print(y_train.shape[0], 'test samples')\n",
        "\n",
        "print(X_test.shape[0], 'train samples')\n",
        "print(y_test.shape[0], 'test samples')\n",
        "\n",
        "# 正解ラベルも確認致しましょう。\n",
        "# print(\"これらがy_testの正解ラベル\\n\",y_test)"
      ],
      "metadata": {
        "colab": {
          "base_uri": "https://localhost:8080/"
        },
        "id": "dAMTMaNj6zf0",
        "outputId": "d0e4832c-2701-4ce0-c4e7-62c8ba480eff"
      },
      "execution_count": 2,
      "outputs": [
        {
          "output_type": "stream",
          "name": "stdout",
          "text": [
            "Downloading data from https://www.cs.toronto.edu/~kriz/cifar-10-python.tar.gz\n",
            "170500096/170498071 [==============================] - 11s 0us/step\n",
            "170508288/170498071 [==============================] - 11s 0us/step\n",
            "1000 train samples\n",
            "1000 test samples\n",
            "50 train samples\n",
            "50 test samples\n"
          ]
        }
      ]
    },
    {
      "cell_type": "markdown",
      "source": [
        "ロードした今回扱うデータを確認してみましょう。"
      ],
      "metadata": {
        "id": "se1a87dx8jMM"
      }
    },
    {
      "cell_type": "code",
      "source": [
        "# データの形状(ピクセル数等)の確認 ⇒ (32, 32, 3)\n",
        "print(X_train[1].shape)\n",
        "\n",
        "# 画像をビジュアルにて確認\n",
        "# その為のモジュールをインポート\n",
        "from google.colab.patches import cv2_imshow\n",
        "import cv2\n",
        "\n",
        "# for文を用いて一括確認。更にリサイズして大きさも見やすく調整。⇒時間がかかります。\n",
        "# for im in X_train:\n",
        "#   cv2_imshow(cv2.resize(im,(100,100)))"
      ],
      "metadata": {
        "id": "MmfKMwTegZht",
        "colab": {
          "base_uri": "https://localhost:8080/"
        },
        "outputId": "54e59bbb-4671-4798-fdf7-8f96eb58b324"
      },
      "execution_count": 3,
      "outputs": [
        {
          "output_type": "stream",
          "name": "stdout",
          "text": [
            "(32, 32, 3)\n"
          ]
        }
      ]
    },
    {
      "cell_type": "markdown",
      "source": [
        "### データの増殖\n",
        "確認が済んだところで実際に増殖してみましょう。\n"
      ],
      "metadata": {
        "id": "WeRs3qeryVzo"
      }
    },
    {
      "cell_type": "markdown",
      "source": [
        "### データの増殖\n"
      ],
      "metadata": {
        "id": "P89XSqDurFbT"
      }
    },
    {
      "cell_type": "markdown",
      "source": [
        "① cifar10から訓練画像データを取得\n",
        "\n",
        "② そのデータをビジュアルにて確認。plt.imshow()\n",
        "\n",
        "③ 水増し/正規化の独自関数を作成し画像を突っ込む。\n",
        "その際に、for文で回したり等工夫を行うと宜し。\n",
        "\n",
        "④画像が増える。トレインデータの水増し＆質の向上。\n",
        "\n",
        "⑤ラベルデータの増殖も行う。⇒男女識別の添削課題を参照。\n",
        "\n",
        "⑥水増しされた画像を、CNNモデル学習用に整形。⇒学習に用いる\n",
        "水増しした画像はトレインデータにのみ用いる事。\n",
        "\n",
        "テストデータは本当にテストに用いるべきものである。\n",
        "水増しされた画像をテストデータに用いるとカンニングでしょう。"
      ],
      "metadata": {
        "id": "_f4-Pn6Ay_3Q"
      }
    },
    {
      "cell_type": "markdown",
      "source": [
        "そのデータを増殖させる独自関数はこちら\n"
      ],
      "metadata": {
        "id": "-qbH8_-uYBqd"
      }
    },
    {
      "cell_type": "code",
      "source": [
        "import cv2\n",
        "import os\n",
        "\n",
        "def scratch_image(img, flip=True, thr=True, blur=True, resize=True, erode=True):\n",
        "    # 水増しの手法を配列にまとめる\n",
        "    methods = [flip, thr, blur, resize, erode]\n",
        "    # 画像のサイズを習得、ぼかしに使うフィルターの作成\n",
        "    img_size = img.shape\n",
        "    filter1 = np.ones((3, 3))              # 多分カーネルの引数の事？\n",
        "    # オリジナルの画像データを配列に格納\n",
        "    images = [img]\n",
        "    # 手法に用いる関数\n",
        "    scratch = np.array([\n",
        "        lambda x: cv2.flip(x, 1),                                     # 引数xのをflipします。\n",
        "        lambda x: cv2.threshold(x, 100, 255, cv2.THRESH_TOZERO)[1],   # 閾値(しきいち)処理\n",
        "        lambda x: cv2.GaussianBlur(x, (5, 5), 0),                     # GaussianBlur:ぼかし処理　resize:モザイク処理。縮小⇒拡大の動作の事。\n",
        "        lambda x: cv2.resize(cv2.resize(\n",
        "                        x, (img_size[1] // 5, img_size[0] // 5)\n",
        "                    ),(img_size[1], img_size[0])),\n",
        "        lambda x: cv2.erode(x, filter1)                               # 収縮処理\n",
        "    ])\n",
        "    # 関数と画像を引数に、加工した画像を元と合わせて水増しする関数\n",
        "    \n",
        "    doubling_images = lambda f, imag: (imag + [f(i) for i in imag])\n",
        "    # methodsがTrueの関数で水増し\n",
        "    for func in scratch[methods]:\n",
        "        images = doubling_images(func, images)\n",
        "    \n",
        "    return images"
      ],
      "metadata": {
        "id": "NO4iaSqqy_sL"
      },
      "execution_count": null,
      "outputs": []
    },
    {
      "cell_type": "code",
      "source": [
        "    # 画像の読み込み\n",
        "# img9 = cv2.imread(\"/content/9.jpg\")\n",
        "\n",
        "scratched_images = [] # 水増し画像をいれる箱。\n",
        "scratched_labels = [] # 水増し画像の正解ラベルをいれる箱。\n",
        "multiplied_label = 32 # 水増しされるラベルの数。1枚が32枚に水増しされるので *32倍する為の物。\n",
        "\n",
        "# ① imgとlabelにそれぞれの画像と正解ラベルを格納します。\n",
        "# ② imgに独自関数\"scratch_image\"を噛ませます⇒増殖。それをリストscratched_imagesに格納。\n",
        "# ③ labelを水増しした分、掛けます。今回は1枚が32枚に水増しされるので *32 しています。\n",
        "\n",
        "for img,label in zip (X_train, y_train):                # ①\n",
        "  scratched_images += scratch_image(img)                # ②\n",
        "  scratched_labels += [label] * multiplied_label        # ③\n",
        "\n",
        "# 水増しされた画像とラベルを確認しましょう。\n",
        "print(\"水増しされた結果の画像の合計：\",len(scratched_images))\n",
        "print(\"水増しされた結果のラベルの合計：\",len(scratched_labels))"
      ],
      "metadata": {
        "colab": {
          "base_uri": "https://localhost:8080/"
        },
        "id": "7LQnqMjYq6nb",
        "outputId": "254294cb-c1d0-4b41-de08-580da76fa7d5"
      },
      "execution_count": null,
      "outputs": [
        {
          "output_type": "stream",
          "name": "stdout",
          "text": [
            "水増しされた結果の画像の合計： 32000\n",
            "水増しされた結果のラベルの合計： 32000\n"
          ]
        }
      ]
    },
    {
      "cell_type": "code",
      "source": [
        "# 保存したいときは保存の処理を行う。\n",
        "# 画像を保存するフォルダーを作成\n",
        "if not os.path.exists(\"scratch_images\"):\n",
        "  os.mkdir(\"scratch_images\")\n",
        "\n",
        "for num, im in enumerate(scratched_images):\n",
        "  cv2.imwrite(\"scratch_images/\" + str(num) + \".jpg\" ,im)"
      ],
      "metadata": {
        "id": "zE1kRwcXrS7p"
      },
      "execution_count": null,
      "outputs": []
    },
    {
      "cell_type": "markdown",
      "source": [
        "### データ整形。\n",
        "次はデータ整形をしましょう。　まずは増殖されたデータの確認。\n"
      ],
      "metadata": {
        "id": "_5srDQkIbqqy"
      }
    },
    {
      "cell_type": "code",
      "source": [
        "# 水増しされた画像とラベルを確認しましょう。⇒訓練データにて使用。\n",
        "print(\"水増しされた結果の画像の合計：\",len(scratched_images))\n",
        "print(\"水増しされた結果のラベルの合計：\",len(scratched_labels))"
      ],
      "metadata": {
        "colab": {
          "base_uri": "https://localhost:8080/"
        },
        "id": "hWTT0z1Xj1oI",
        "outputId": "518f3729-7e2a-470c-bc57-284c4189c233"
      },
      "execution_count": null,
      "outputs": [
        {
          "output_type": "stream",
          "name": "stdout",
          "text": [
            "水増しされた結果の画像の合計： 32000\n",
            "水増しされた結果のラベルの合計： 32000\n"
          ]
        }
      ]
    },
    {
      "cell_type": "markdown",
      "source": [
        "増殖した画像データはリストなのでnumpyに変換します。\n",
        "\n",
        "\n",
        "増殖した正解ラベルをカテゴリカル(one hot encording)に変換します。\n",
        "\n"
      ],
      "metadata": {
        "id": "pDLLpH0n9vrk"
      }
    },
    {
      "cell_type": "code",
      "source": [
        "# 水増しした画像データをX_trainにコピｰ＆ペースト\n",
        "X_train =scratched_images.copy() \n",
        "\n",
        "print(X_train[0].shape) # これはまだリストなので…\n",
        "\n",
        "# リスト⇒numpy配列に変換。\n",
        "X_train = np.array(X_train)\n",
        "\n",
        "# 確認\n",
        "print(type(X_train))\n",
        "\n",
        "# 正解ラベルをone hot encordingに変換。\n",
        "y_train = to_categorical(scratched_labels)\n",
        "print(y_train[0]) # 水増ししたラベルがちゃんとone hot encordingされている事を確認。"
      ],
      "metadata": {
        "colab": {
          "base_uri": "https://localhost:8080/"
        },
        "id": "z59VNtbIcY0j",
        "outputId": "df57e9ac-7a08-4782-f9fb-d80cd8fc66e4"
      },
      "execution_count": null,
      "outputs": [
        {
          "output_type": "stream",
          "name": "stdout",
          "text": [
            "(32, 32, 3)\n",
            "<class 'numpy.ndarray'>\n",
            "[0. 0. 0. 0. 0. 0. 1. 0. 0. 0.]\n"
          ]
        }
      ]
    },
    {
      "cell_type": "markdown",
      "source": [
        "callbackにてX_testとy_testも使用するので整形しておきます。"
      ],
      "metadata": {
        "id": "pBoOrxESuB2H"
      }
    },
    {
      "cell_type": "code",
      "source": [
        "y_test = to_categorical(y_test)\n",
        "print(y_test)"
      ],
      "metadata": {
        "id": "Lj130o4TuM9m",
        "colab": {
          "base_uri": "https://localhost:8080/"
        },
        "outputId": "9af6cb1a-e025-4902-9495-61313e68ede9"
      },
      "execution_count": null,
      "outputs": [
        {
          "output_type": "stream",
          "name": "stdout",
          "text": [
            "[[0. 0. 0. 1. 0. 0. 0. 0. 0. 0.]\n",
            " [0. 0. 0. 0. 0. 0. 0. 0. 1. 0.]\n",
            " [0. 0. 0. 0. 0. 0. 0. 0. 1. 0.]\n",
            " [1. 0. 0. 0. 0. 0. 0. 0. 0. 0.]\n",
            " [0. 0. 0. 0. 0. 0. 1. 0. 0. 0.]\n",
            " [0. 0. 0. 0. 0. 0. 1. 0. 0. 0.]\n",
            " [0. 1. 0. 0. 0. 0. 0. 0. 0. 0.]\n",
            " [0. 0. 0. 0. 0. 0. 1. 0. 0. 0.]\n",
            " [0. 0. 0. 1. 0. 0. 0. 0. 0. 0.]\n",
            " [0. 1. 0. 0. 0. 0. 0. 0. 0. 0.]\n",
            " [1. 0. 0. 0. 0. 0. 0. 0. 0. 0.]\n",
            " [0. 0. 0. 0. 0. 0. 0. 0. 0. 1.]\n",
            " [0. 0. 0. 0. 0. 1. 0. 0. 0. 0.]\n",
            " [0. 0. 0. 0. 0. 0. 0. 1. 0. 0.]\n",
            " [0. 0. 0. 0. 0. 0. 0. 0. 0. 1.]\n",
            " [0. 0. 0. 0. 0. 0. 0. 0. 1. 0.]\n",
            " [0. 0. 0. 0. 0. 1. 0. 0. 0. 0.]\n",
            " [0. 0. 0. 0. 0. 0. 0. 1. 0. 0.]\n",
            " [0. 0. 0. 0. 0. 0. 0. 0. 1. 0.]\n",
            " [0. 0. 0. 0. 0. 0. 1. 0. 0. 0.]\n",
            " [0. 0. 0. 0. 0. 0. 0. 1. 0. 0.]\n",
            " [1. 0. 0. 0. 0. 0. 0. 0. 0. 0.]\n",
            " [0. 0. 0. 0. 1. 0. 0. 0. 0. 0.]\n",
            " [0. 0. 0. 0. 0. 0. 0. 0. 0. 1.]\n",
            " [0. 0. 0. 0. 0. 1. 0. 0. 0. 0.]\n",
            " [0. 0. 1. 0. 0. 0. 0. 0. 0. 0.]\n",
            " [0. 0. 0. 0. 1. 0. 0. 0. 0. 0.]\n",
            " [1. 0. 0. 0. 0. 0. 0. 0. 0. 0.]\n",
            " [0. 0. 0. 0. 0. 0. 0. 0. 0. 1.]\n",
            " [0. 0. 0. 0. 0. 0. 1. 0. 0. 0.]\n",
            " [0. 0. 0. 0. 0. 0. 1. 0. 0. 0.]\n",
            " [0. 0. 0. 0. 0. 1. 0. 0. 0. 0.]\n",
            " [0. 0. 0. 0. 1. 0. 0. 0. 0. 0.]\n",
            " [0. 0. 0. 0. 0. 1. 0. 0. 0. 0.]\n",
            " [0. 0. 0. 0. 0. 0. 0. 0. 0. 1.]\n",
            " [0. 0. 1. 0. 0. 0. 0. 0. 0. 0.]\n",
            " [0. 0. 0. 0. 1. 0. 0. 0. 0. 0.]\n",
            " [0. 1. 0. 0. 0. 0. 0. 0. 0. 0.]\n",
            " [0. 0. 0. 0. 0. 0. 0. 0. 0. 1.]\n",
            " [0. 0. 0. 0. 0. 1. 0. 0. 0. 0.]\n",
            " [0. 0. 0. 0. 1. 0. 0. 0. 0. 0.]\n",
            " [0. 0. 0. 0. 0. 0. 1. 0. 0. 0.]\n",
            " [0. 0. 0. 0. 0. 1. 0. 0. 0. 0.]\n",
            " [0. 0. 0. 0. 0. 0. 1. 0. 0. 0.]\n",
            " [1. 0. 0. 0. 0. 0. 0. 0. 0. 0.]\n",
            " [0. 0. 0. 0. 0. 0. 0. 0. 0. 1.]\n",
            " [0. 0. 0. 1. 0. 0. 0. 0. 0. 0.]\n",
            " [0. 0. 0. 0. 0. 0. 0. 0. 0. 1.]\n",
            " [0. 0. 0. 0. 0. 0. 0. 1. 0. 0.]\n",
            " [0. 0. 0. 0. 0. 0. 1. 0. 0. 0.]]\n"
          ]
        }
      ]
    },
    {
      "cell_type": "code",
      "source": [
        "# カラム数が統一されているかの確認\n",
        "print(y_train.shape) # (1600, 10)\n",
        "print(y_test.shape)  # (50, 10)"
      ],
      "metadata": {
        "colab": {
          "base_uri": "https://localhost:8080/"
        },
        "id": "2SwQwftvuf0M",
        "outputId": "6b86e506-42cf-4f60-e80d-56c3a2cf2ef0"
      },
      "execution_count": null,
      "outputs": [
        {
          "output_type": "stream",
          "name": "stdout",
          "text": [
            "(32000, 10)\n",
            "(50, 10)\n"
          ]
        }
      ]
    },
    {
      "cell_type": "markdown",
      "source": [
        "### CNN作成と学習\n",
        "増殖させた訓練データを用いて学習させてみましょう。\n"
      ],
      "metadata": {
        "id": "slg2PuzORW_J"
      }
    },
    {
      "cell_type": "markdown",
      "source": [
        "モデルの構築を行います。"
      ],
      "metadata": {
        "id": "SeJ9qI3b-3s8"
      }
    },
    {
      "cell_type": "code",
      "execution_count": null,
      "metadata": {
        "id": "sJmCEbqOQwGZ"
      },
      "outputs": [],
      "source": [
        "# モデルの定義\n",
        "model = Sequential()\n",
        "\n",
        "# 畳み込み開始。　入力層・\n",
        "model.add(Conv2D(32, (3, 3), padding='same',\n",
        "                 input_shape=X_train.shape[1:]))\n",
        "\n",
        "# 畳み込み層\n",
        "    # 入力データにカーネルをかける（「3×3」の32種類のフィルタを使う）⇒それで結局、\n",
        "    # 出力ユニット数：32（64枚分の出力データが得られる）。画像の特徴量が表すデータ。\n",
        "    # 問題が複雑ならフィルタの種類を増やす\n",
        "    # 他パラメータは前回で定義されているので自動的にそれに従ってくれている。\n",
        "model.add(Activation('relu'))\n",
        "model.add(Conv2D(32, (3, 3)))\n",
        "model.add(Activation('relu'))\n",
        "\n",
        "  # 【プーリング層】:特徴量を圧縮する層。（ロバスト性向上、過学習防止、計算コスト抑制のため）\n",
        "    # 実際に位置が若干ズレていたとしても対応､融通が利くように。画像の空間サイズを小さくし、調整するパラメーター数も減少⇒過学習を防止。\n",
        "    # pool_size=(2, 2):入力画像内の「2×2」の領域で最大の数値を出力。⇒\"Max Pooling\"\n",
        "model.add(MaxPooling2D(pool_size=(2, 2)))\n",
        "\n",
        "    # ドロップアウト(過学習防止用, dropout_rate=0.2なら20%のユニットを無効化）\n",
        "model.add(Dropout(0.25))\n",
        "\n",
        "# ここから\n",
        "model.add(Conv2D(64, (3, 3), padding='same'))\n",
        "model.add(Activation('relu'))\n",
        "model.add(Conv2D(64, (3, 3)))\n",
        "model.add(Activation('relu'))\n",
        "\n",
        "model.add(MaxPooling2D(pool_size=(2, 2)))\n",
        "\n",
        "\n",
        "model.add(Dropout(0.25))\n",
        "# ここまで。\n",
        "\n",
        "    # 平坦化（次元削減）⇒ 1次元ベクトルに変換。畳み込み時には多次元でしたが、最終的な出力は1次元です。これの処理。\n",
        "model.add(Flatten())\n",
        "model.add(Dense(512))\n",
        "model.add(Activation('relu'))\n",
        "\n",
        "model.add(Dropout(0.5))\n",
        "\n",
        "    # 全結合層\n",
        "  # 10分類（0から9まで）なので、ユニット数10, 分類問題なので活性化関数はsoftmax関数\n",
        "  # Softmax関数で総和が1となるように、各出力の予測確率を計算\n",
        "  # 例「0.7, 0, 0, 0, 0, 0, 0.2, 0, 0, 0.1」（0の確率70%, 6の確率20%, 9の確率10%, 他0%）\n",
        "model.add(Dense(10))\n",
        "\n",
        "\n",
        "model.add(Activation('softmax'))\n",
        "\n",
        "\n",
        "# コンパイル\n",
        "opt = keras.optimizers.RMSprop(lr=0.0001, decay=1e-6)\n",
        "model.compile(loss='categorical_crossentropy',\n",
        "              optimizer=opt,\n",
        "              metrics=['accuracy'])\n",
        "# 重みデータ param_cifar10.hdf5 を読み込みます\n",
        "# model.load_weights('./param_cifar10.hdf5')"
      ]
    },
    {
      "cell_type": "code",
      "source": [
        "from keras import callbacks                   # コールバック（1epoch終了毎に呼び出される）\n",
        "\n",
        "history = model.fit(\n",
        "    X_train,\n",
        "    y_train,\n",
        "    batch_size=8,\n",
        "    epochs=300, \n",
        "\n",
        "    validation_data=(X_test, y_test),        # コールバックする際はvalidation dataも準備する。\n",
        "    callbacks=[\n",
        "        callbacks.EarlyStopping(monitor='val_accuracy',patience=20),\n",
        "        callbacks.ModelCheckpoint(filepath = './model/best_model.h5',monitor='val_accuracy', save_best_only=True)\n",
        "        ]\n",
        ")\n",
        "\n",
        "# loss 数値\n",
        "# acuracy 分類\n",
        "# balidationのテストがちゃんと変換されているか確認してみて。"
      ],
      "metadata": {
        "id": "Ue2t301YRnjh",
        "colab": {
          "base_uri": "https://localhost:8080/"
        },
        "outputId": "249c8d43-f7a7-4a04-cf55-7a22fcc0a444"
      },
      "execution_count": null,
      "outputs": [
        {
          "output_type": "stream",
          "name": "stdout",
          "text": [
            "Epoch 1/300\n",
            "4000/4000 [==============================] - 229s 57ms/step - loss: 2.2153 - accuracy: 0.3012 - val_loss: 1.7990 - val_accuracy: 0.3000\n",
            "Epoch 2/300\n",
            "4000/4000 [==============================] - 225s 56ms/step - loss: 1.6565 - accuracy: 0.4100 - val_loss: 1.5689 - val_accuracy: 0.4800\n",
            "Epoch 3/300\n",
            "4000/4000 [==============================] - 226s 56ms/step - loss: 1.5519 - accuracy: 0.4555 - val_loss: 1.6897 - val_accuracy: 0.4200\n",
            "Epoch 4/300\n",
            "4000/4000 [==============================] - 226s 56ms/step - loss: 1.4577 - accuracy: 0.4899 - val_loss: 1.6310 - val_accuracy: 0.4600\n",
            "Epoch 5/300\n",
            "4000/4000 [==============================] - 227s 57ms/step - loss: 1.3776 - accuracy: 0.5225 - val_loss: 1.5803 - val_accuracy: 0.3800\n",
            "Epoch 6/300\n",
            "4000/4000 [==============================] - 225s 56ms/step - loss: 1.3194 - accuracy: 0.5434 - val_loss: 1.7427 - val_accuracy: 0.3600\n",
            "Epoch 7/300\n",
            "4000/4000 [==============================] - 227s 57ms/step - loss: 1.2628 - accuracy: 0.5633 - val_loss: 1.5963 - val_accuracy: 0.4000\n",
            "Epoch 8/300\n",
            "4000/4000 [==============================] - 224s 56ms/step - loss: 1.2083 - accuracy: 0.5847 - val_loss: 1.6508 - val_accuracy: 0.4000\n",
            "Epoch 9/300\n",
            "4000/4000 [==============================] - 225s 56ms/step - loss: 1.1792 - accuracy: 0.6017 - val_loss: 1.6248 - val_accuracy: 0.4800\n",
            "Epoch 10/300\n",
            "4000/4000 [==============================] - 225s 56ms/step - loss: 1.1514 - accuracy: 0.6131 - val_loss: 1.7100 - val_accuracy: 0.3600\n",
            "Epoch 11/300\n",
            "4000/4000 [==============================] - 223s 56ms/step - loss: 1.1173 - accuracy: 0.6279 - val_loss: 1.5608 - val_accuracy: 0.4400\n",
            "Epoch 12/300\n",
            "4000/4000 [==============================] - 225s 56ms/step - loss: 1.0930 - accuracy: 0.6372 - val_loss: 1.8366 - val_accuracy: 0.3600\n",
            "Epoch 13/300\n",
            "4000/4000 [==============================] - 224s 56ms/step - loss: 1.0772 - accuracy: 0.6442 - val_loss: 1.6941 - val_accuracy: 0.3600\n",
            "Epoch 14/300\n",
            "4000/4000 [==============================] - 225s 56ms/step - loss: 1.0674 - accuracy: 0.6487 - val_loss: 1.6541 - val_accuracy: 0.4400\n",
            "Epoch 15/300\n",
            "4000/4000 [==============================] - 225s 56ms/step - loss: 1.0552 - accuracy: 0.6555 - val_loss: 1.7267 - val_accuracy: 0.4400\n",
            "Epoch 16/300\n",
            "4000/4000 [==============================] - 225s 56ms/step - loss: 1.0424 - accuracy: 0.6608 - val_loss: 1.7075 - val_accuracy: 0.3800\n",
            "Epoch 17/300\n",
            "4000/4000 [==============================] - 226s 56ms/step - loss: 1.0298 - accuracy: 0.6655 - val_loss: 1.7380 - val_accuracy: 0.4600\n",
            "Epoch 18/300\n",
            "4000/4000 [==============================] - 225s 56ms/step - loss: 1.0183 - accuracy: 0.6746 - val_loss: 1.8258 - val_accuracy: 0.4000\n",
            "Epoch 19/300\n",
            "4000/4000 [==============================] - 226s 57ms/step - loss: 1.0210 - accuracy: 0.6729 - val_loss: 1.7449 - val_accuracy: 0.4600\n",
            "Epoch 20/300\n",
            "4000/4000 [==============================] - 225s 56ms/step - loss: 1.0186 - accuracy: 0.6771 - val_loss: 1.7222 - val_accuracy: 0.4200\n",
            "Epoch 21/300\n",
            "4000/4000 [==============================] - 227s 57ms/step - loss: 1.0191 - accuracy: 0.6788 - val_loss: 1.5981 - val_accuracy: 0.4800\n",
            "Epoch 22/300\n",
            "4000/4000 [==============================] - 225s 56ms/step - loss: 1.0147 - accuracy: 0.6785 - val_loss: 1.6684 - val_accuracy: 0.4200\n"
          ]
        }
      ]
    },
    {
      "cell_type": "code",
      "source": [
        "# 訓練データの学習過程のプロット\n",
        "import matplotlib.pyplot as plt\n",
        "import seaborn as sns\n",
        "plt.plot(history.epoch, history.history[\"loss\"], label=\"loss\")\n",
        "plt.plot(history.epoch, history.history[\"accuracy\"], label=\"accuracy\")\n",
        "plt.legend()"
      ],
      "metadata": {
        "colab": {
          "base_uri": "https://localhost:8080/",
          "height": 282
        },
        "id": "taSpXDtdRJ-5",
        "outputId": "956c3f96-d825-4c8b-b1d4-6da6bfa19ce0"
      },
      "execution_count": null,
      "outputs": [
        {
          "output_type": "execute_result",
          "data": {
            "text/plain": [
              "<matplotlib.legend.Legend at 0x7fd96e789590>"
            ]
          },
          "metadata": {},
          "execution_count": 40
        },
        {
          "output_type": "display_data",
          "data": {
            "text/plain": [
              "<Figure size 432x288 with 1 Axes>"
            ],
            "image/png": "[encoded data removed]"
          },
          "metadata": {
            "needs_background": "light"
          }
        }
      ]
    },
    {
      "cell_type": "code",
      "source": [
        "# valデータではどうなっているかも確認 ⇒ 全然だめですね。val_accurancyがちっとも上がっていない。\n",
        "import matplotlib.pyplot as plt\n",
        "import seaborn as sns\n",
        "# plt.plot(history.epoch, history.history[\"val_loss\"], label=\"val_loss\")\n",
        "plt.plot(history.epoch, history.history[\"val_accuracy\"], label=\"val_accuracy\")\n",
        "\n",
        "plt.legend()"
      ],
      "metadata": {
        "colab": {
          "base_uri": "https://localhost:8080/",
          "height": 282
        },
        "id": "_zwwwy2dsMVI",
        "outputId": "c6d3e6a6-a1f6-4406-8e29-405683dc0a57"
      },
      "execution_count": null,
      "outputs": [
        {
          "output_type": "execute_result",
          "data": {
            "text/plain": [
              "<matplotlib.legend.Legend at 0x7fd96e6fa410>"
            ]
          },
          "metadata": {},
          "execution_count": 41
        },
        {
          "output_type": "display_data",
          "data": {
            "text/plain": [
              "<Figure size 432x288 with 1 Axes>"
            ],
            "image/png": "[encoded data removed]"
          },
          "metadata": {
            "needs_background": "light"
          }
        }
      ]
    },
    {
      "cell_type": "markdown",
      "source": [
        "### 精度評価と考察"
      ],
      "metadata": {
        "id": "_e1EF_agRgI5"
      }
    },
    {
      "cell_type": "markdown",
      "source": [
        "###### 精度の予測"
      ],
      "metadata": {
        "id": "a6VIgkhpoo3S"
      }
    },
    {
      "cell_type": "code",
      "source": [
        "# 精度の評価\n",
        "scores = model.evaluate(X_test, y_test, verbose=1)\n",
        "print('Test loss:', scores[0])\n",
        "print('Test accuracy:', scores[1])\n",
        "\n",
        "# 良くはないね"
      ],
      "metadata": {
        "colab": {
          "base_uri": "https://localhost:8080/"
        },
        "id": "T5qmuLAUROJ5",
        "outputId": "279c715d-187d-4988-b580-ec96759d8a2e"
      },
      "execution_count": null,
      "outputs": [
        {
          "output_type": "stream",
          "name": "stdout",
          "text": [
            "2/2 [==============================] - 0s 26ms/step - loss: 1.6684 - accuracy: 0.4200\n",
            "Test loss: 1.6683958768844604\n",
            "Test accuracy: 0.41999998688697815\n"
          ]
        }
      ]
    },
    {
      "cell_type": "code",
      "source": [
        "# データの可視化（検証データの先頭の10枚）\n",
        "for i in range(10):\n",
        "    plt.subplot(2, 5, i+1)\n",
        "    plt.imshow(X_test[i])\n",
        "plt.suptitle(\"10 images of test data\",fontsize=10)\n",
        "plt.show()\n",
        "\n",
        "# 予測（検証データの先頭の10枚）\n",
        "pred = np.argmax(model.predict(X_test[0:10]), axis=1)\n",
        "\n",
        "# 実測値(y_test)\n",
        "acutal = np.argmax(y_test[0:10], axis=1)\n",
        "\n",
        "# 正解率\n",
        "from sklearn.metrics import accuracy_score\n",
        "acc = accuracy_score(pred,acutal)\n",
        "\n",
        "scores = model.evaluate(X_test, y_test, verbose=1)\n",
        "print(\"これが予測値です\",pred)\n",
        "print(\"これが実測値です\",acutal)\n",
        "print(\"これが正解率です\",acc)"
      ],
      "metadata": {
        "colab": {
          "base_uri": "https://localhost:8080/",
          "height": 343
        },
        "id": "lH5go2rTR0DT",
        "outputId": "96380a32-adeb-414c-8a8e-68d364f2ebb4"
      },
      "execution_count": null,
      "outputs": [
        {
          "output_type": "display_data",
          "data": {
            "text/plain": [
              "<Figure size 432x288 with 10 Axes>"
            ],
            "image/png": "[encoded data removed]"
          },
          "metadata": {
            "needs_background": "light"
          }
        },
        {
          "output_type": "stream",
          "name": "stdout",
          "text": [
            "2/2 [==============================] - 0s 27ms/step - loss: 1.6684 - accuracy: 0.4200\n",
            "これが予測値です [2 8 1 8 6 6 5 4 3 1]\n",
            "これが実測値です [3 8 8 0 6 6 1 6 3 1]\n",
            "これが正解率です 0.5\n"
          ]
        }
      ]
    },
    {
      "cell_type": "markdown",
      "source": [
        "###### 考察"
      ],
      "metadata": {
        "id": "sm3fA2xhpFwO"
      }
    },
    {
      "cell_type": "markdown",
      "source": [
        "- モデル構築に工夫を加えて少ないデータでも良いモデルを作るのか。\n",
        "\n",
        "- 当初の目標である<font color=\"red\">画像データを水増しして学習させる</font>という目標は達成できた。　\n",
        "しかし結果はやはり奮わなかった。しかしアイデアを実現させて実装し確認できたので良し。"
      ],
      "metadata": {
        "id": "6j6-qfzVqQXF"
      }
    },
    {
      "cell_type": "markdown",
      "source": [
        "画像の増殖方法をより工夫すれば良いモデルが作成できるのか、いつか確かめてみたい。"
      ],
      "metadata": {
        "id": "qv2X-IS0-3Ot"
      }
    },
    {
      "cell_type": "markdown",
      "source": [
        "- 本当に効果を確かめるには\n",
        "\n",
        "①5万枚の画像データにて訓練したモデル\n",
        "\n",
        "②1万枚の画像データを5万枚の画像データにしてそれを元に訓練したモデル\n",
        "\n",
        "双方の違いはデータのみでモデル構築/学習は一緒。その２つを比較考量する。"
      ],
      "metadata": {
        "id": "kUdEuClVtJC-"
      }
    },
    {
      "cell_type": "markdown",
      "source": [
        "そのぐらいの手間をかければ画像増殖の有効性を確認できる可能性はあります。\n",
        "時間あるときに上記の比較が出来ればと。"
      ],
      "metadata": {
        "id": "DfoY5kxhtyBn"
      }
    }
  ]
}